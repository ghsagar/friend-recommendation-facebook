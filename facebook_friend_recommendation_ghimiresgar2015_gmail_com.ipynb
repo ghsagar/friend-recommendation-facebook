{
  "nbformat": 4,
  "nbformat_minor": 0,
  "metadata": {
    "colab": {
      "name": "facebook_friend_recommendation_ghimiresgar2015@gmail_com.ipynb",
      "provenance": [],
      "collapsed_sections": [],
      "machine_shape": "hm",
      "include_colab_link": true
    },
    "kernelspec": {
      "display_name": "Python 3",
      "language": "python",
      "name": "python3"
    },
    "language_info": {
      "codemirror_mode": {
        "name": "ipython",
        "version": 3
      },
      "file_extension": ".py",
      "mimetype": "text/x-python",
      "name": "python",
      "nbconvert_exporter": "python",
      "pygments_lexer": "ipython3",
      "version": "3.7.3"
    }
  },
  "cells": [
    {
      "cell_type": "markdown",
      "metadata": {
        "id": "view-in-github",
        "colab_type": "text"
      },
      "source": [
        "<a href=\"https://colab.research.google.com/github/ghsagar/friend-recommendation-facebook/blob/main/facebook_friend_recommendation_ghimiresgar2015_gmail_com.ipynb\" target=\"_parent\"><img src=\"https://colab.research.google.com/assets/colab-badge.svg\" alt=\"Open In Colab\"/></a>"
      ]
    },
    {
      "cell_type": "markdown",
      "metadata": {
        "id": "rnysF8x_ORlO"
      },
      "source": [
        "<p style=\"font-size:32px;text-align:center\"> <b>Social network Graph Link Prediction - Facebook Challenge</b> </p>"
      ]
    },
    {
      "cell_type": "markdown",
      "metadata": {
        "id": "4n1DoOaXcXeC"
      },
      "source": [
        " "
      ]
    },
    {
      "cell_type": "code",
      "metadata": {
        "colab": {
          "base_uri": "https://localhost:8080/",
          "height": 121
        },
        "id": "CgOjRVfagk7f",
        "outputId": "d1c8cf26-9985-4207-fcda-a4fb8b2b476d"
      },
      "source": [
        "from google.colab import drive\n",
        "drive.mount('/content/drive')"
      ],
      "execution_count": null,
      "outputs": [
        {
          "output_type": "stream",
          "text": [
            "Go to this URL in a browser: https://accounts.google.com/o/oauth2/auth?client_id=947318989803-6bn6qk8qdgf4n4g3pfee6491hc0brc4i.apps.googleusercontent.com&redirect_uri=urn%3aietf%3awg%3aoauth%3a2.0%3aoob&response_type=code&scope=email%20https%3a%2f%2fwww.googleapis.com%2fauth%2fdocs.test%20https%3a%2f%2fwww.googleapis.com%2fauth%2fdrive%20https%3a%2f%2fwww.googleapis.com%2fauth%2fdrive.photos.readonly%20https%3a%2f%2fwww.googleapis.com%2fauth%2fpeopleapi.readonly\n",
            "\n",
            "Enter your authorization code:\n",
            "··········\n",
            "Mounted at /content/drive\n"
          ],
          "name": "stdout"
        }
      ]
    },
    {
      "cell_type": "markdown",
      "metadata": {
        "id": "JkoerGBXORlS"
      },
      "source": [
        "### Problem statement: \n",
        "Given a directed social graph, have to predict missing links to recommend users (Link Prediction in graph)"
      ]
    },
    {
      "cell_type": "markdown",
      "metadata": {
        "id": "V3QpE6i9ORlU"
      },
      "source": [
        "### Data Overview\n",
        "Taken data from facebook's recruting challenge on kaggle https://www.kaggle.com/c/FacebookRecruiting  \n",
        "data contains two columns source and destination eac edge in graph \n",
        "    - Data columns (total 2 columns):  \n",
        "    - source_node         int64  \n",
        "    - destination_node    int64  "
      ]
    },
    {
      "cell_type": "markdown",
      "metadata": {
        "id": "NHsD-3qlORlV"
      },
      "source": [
        "### Mapping the problem into supervised learning problem:\n",
        "- Generated training samples of good and bad links from given directed graph and for each link got some features like no of followers, is he followed back, page rank, katz score, adar index, some svd fetures of adj matrix, some weight features etc. and trained ml model based on these features to predict link. \n",
        "- Some reference papers and videos :  \n",
        "    - https://www.cs.cornell.edu/home/kleinber/link-pred.pdf\n",
        "    - https://www3.nd.edu/~dial/publications/lichtenwalter2010new.pdf\n",
        "    - https://www.youtube.com/watch?v=2M77Hgy17cg"
      ]
    },
    {
      "cell_type": "markdown",
      "metadata": {
        "id": "KJhG3ZczORlW"
      },
      "source": [
        "### Business objectives and constraints:  \n",
        "- No low-latency requirement.\n",
        "- Probability of prediction is useful to recommend ighest probability links"
      ]
    },
    {
      "cell_type": "markdown",
      "metadata": {
        "id": "BUZLwsmKORlX"
      },
      "source": [
        "### Performance metric for supervised learning:  \n",
        "- Both precision and recall is important so F1 score is good choice\n",
        "- Confusion matrix"
      ]
    },
    {
      "cell_type": "code",
      "metadata": {
        "id": "JDE330RZORlY"
      },
      "source": [
        "#Importing Libraries\n",
        "# please do go through this python notebook: \n",
        "import warnings\n",
        "warnings.filterwarnings(\"ignore\")\n",
        "\n",
        "import csv\n",
        "import pandas as pd#pandas to create small dataframes \n",
        "import datetime #Convert to unix time\n",
        "import time #Convert to unix time\n",
        "# if numpy is not installed already : pip3 install numpy\n",
        "import numpy as np#Do aritmetic operations on arrays\n",
        "# matplotlib: used to plot graphs\n",
        "import matplotlib\n",
        "import matplotlib.pylab as plt\n",
        "import seaborn as sns#Plots\n",
        "from matplotlib import rcParams#Size of plots  \n",
        "from sklearn.cluster import MiniBatchKMeans, KMeans#Clustering\n",
        "import math\n",
        "import pickle\n",
        "import os\n",
        "# to install xgboost: pip3 install xgboost\n",
        "import xgboost as xgb\n",
        "\n",
        "import warnings\n",
        "import networkx as nx\n",
        "import pdb\n",
        "import pickle"
      ],
      "execution_count": null,
      "outputs": []
    },
    {
      "cell_type": "code",
      "metadata": {
        "colab": {
          "base_uri": "https://localhost:8080/",
          "height": 118
        },
        "id": "TS1Uy_1fORld",
        "outputId": "c64ae2b7-187f-4d3d-e1f1-5314ebe5e2a8"
      },
      "source": [
        "#reading graph\n",
        "if not os.path.isfile('/content/drive/My Drive/Facebook/data/after_eda/train_woheader.csv'):\n",
        "    traincsv = pd.read_csv('drive/My Drive/Facebook/data/train.csv')\n",
        "    print(traincsv[traincsv.isna().any(1)])\n",
        "    print(traincsv.info())\n",
        "    print(\"Number of diplicate entries: \",sum(traincsv.duplicated()))\n",
        "    traincsv.to_csv('drive/My Drive/Facebook/data/train_woheader.csv',header=False,index=False)\n",
        "    print(\"saved the graph into file\")\n",
        "else:\n",
        "  g=nx.read_edgelist('/content/drive/My Drive/Facebook/data/after_eda/train_woheader.csv',delimiter=',',create_using=nx.DiGraph(),nodetype=int)\n",
        "  print(nx.info(g))"
      ],
      "execution_count": null,
      "outputs": [
        {
          "output_type": "stream",
          "text": [
            "Name: \n",
            "Type: DiGraph\n",
            "Number of nodes: 1862220\n",
            "Number of edges: 9437519\n",
            "Average in degree:   5.0679\n",
            "Average out degree:   5.0679\n"
          ],
          "name": "stdout"
        }
      ]
    },
    {
      "cell_type": "markdown",
      "metadata": {
        "id": "xC4VMFglORlj"
      },
      "source": [
        "> Displaying a sub graph"
      ]
    },
    {
      "cell_type": "markdown",
      "metadata": {
        "id": "u6uqmjurORnT"
      },
      "source": [
        "# 2. Posing a problem as classification problem "
      ]
    },
    {
      "cell_type": "markdown",
      "metadata": {
        "id": "dZYvDAwDORnU"
      },
      "source": [
        "## 2.1 Generating some edges which are not present in graph for supervised learning  \n",
        "Generated Bad links from graph which are not in graph and whose shortest path is greater than 2. "
      ]
    },
    {
      "cell_type": "code",
      "metadata": {
        "colab": {
          "base_uri": "https://localhost:8080/",
          "height": 252
        },
        "id": "Ng84Ief1u-pF",
        "outputId": "d1021182-8898-41c1-c0f2-5eab3ad9f71e"
      },
      "source": [
        "print(pd.read_csv(\"/content/drive/My Drive/Facebook/data/after_eda/train_woheader.csv\"))"
      ],
      "execution_count": null,
      "outputs": [
        {
          "output_type": "stream",
          "text": [
            "               1   690569\n",
            "0              1   315892\n",
            "1              1   189226\n",
            "2              2   834328\n",
            "3              2  1615927\n",
            "4              2  1194519\n",
            "...          ...      ...\n",
            "9437513  1862219  1187308\n",
            "9437514  1862219   563943\n",
            "9437515  1862219  1044046\n",
            "9437516  1862219  1022613\n",
            "9437517  1862220  1748794\n",
            "\n",
            "[9437518 rows x 2 columns]\n"
          ],
          "name": "stdout"
        }
      ]
    },
    {
      "cell_type": "code",
      "metadata": {
        "colab": {
          "base_uri": "https://localhost:8080/",
          "height": 50
        },
        "id": "1YVbbdL1ORnW",
        "outputId": "890c8516-fa2c-4d90-f02f-23e821d39b72"
      },
      "source": [
        "%%time\n",
        "###generating bad edges from given graph\n",
        "import random\n",
        "# present_edges=g.edges()\n",
        "# missing_edges=set([])\n",
        "# while len(missing_edges)<len(present_edges):\n",
        "\n",
        "#   a=random.randint(1,1862220)\n",
        "#   b=random.randint(1,1862220)\n",
        "  \n",
        "\n",
        "#   if (a,b) not in present_edges and a!=b:\n",
        "#     try:\n",
        "    \n",
        "#       if nx.shortest_path_length(g,source=a,target=b)>2:\n",
        "#         missing_edges.add((a,b))\n",
        "#       continue\n",
        "#     except:\n",
        "#       missing_edges.add((a,b))\n",
        "\n",
        "#   continue\n",
        "# print(len(missing_edges))\n",
        "\n",
        "\n",
        "if not os.path.isfile('/content/drive/My Drive/Facebook/data/after_eda/missing_edges_final.p'):\n",
        "    #getting all set of edges\n",
        "    r = csv.reader(open('/content/drive/My Drive/Facebook/data/after_eda/train_woheader.csv','r'))\n",
        "    edges = dict()\n",
        "    for edge in r:\n",
        "        edges[(edge[0], edge[1])] = 1\n",
        "        \n",
        "        \n",
        "    missing_edges = set([])\n",
        "    while (len(missing_edges)<9437519):\n",
        "        a=random.randint(1, 1862220)\n",
        "        b=random.randint(1, 1862220)\n",
        "        tmp = edges.get((a,b),-1)\n",
        "        if tmp == -1 and a!=b:\n",
        "            try:\n",
        "                if nx.shortest_path_length(g,source=a,target=b) > 2: \n",
        "\n",
        "                    missing_edges.add((a,b))\n",
        "                else:\n",
        "                    continue  \n",
        "            except:  \n",
        "                    missing_edges.add((a,b))              \n",
        "        else:\n",
        "            continue\n",
        "    pickle.dump(missing_edges,open('/content/drive/My Drive/Facebook/data/after_eda/missing_edges_final.p'))\n",
        "else:\n",
        "    missing_edges = pickle.load(open('/content/drive/My Drive/Facebook/data/after_eda/missing_edges_final.p','rb'))"
      ],
      "execution_count": null,
      "outputs": [
        {
          "output_type": "stream",
          "text": [
            "CPU times: user 2.15 s, sys: 1.3 s, total: 3.45 s\n",
            "Wall time: 4.45 s\n"
          ],
          "name": "stdout"
        }
      ]
    },
    {
      "cell_type": "markdown",
      "metadata": {
        "id": "JOFQEKhjORne"
      },
      "source": [
        "## 2.2 Training and Test data split:  \n",
        "Removed edges from Graph and used as test data and after removing used that graph for creating features for Train and test data"
      ]
    },
    {
      "cell_type": "code",
      "metadata": {
        "colab": {
          "base_uri": "https://localhost:8080/",
          "height": 101
        },
        "id": "GJHTrPXEORng",
        "outputId": "7afda40d-1185-4ca0-8e1d-f8268f367c5c"
      },
      "source": [
        "from sklearn.model_selection import train_test_split\n",
        "\n",
        "df_pos = pd.read_csv('/content/drive/My Drive/Facebook/data/train.csv')\n",
        "df_neg = pd.DataFrame(list(missing_edges), columns=['source_node', 'destination_node'])\n",
        "y_positive=np.ones(len(df_pos))\n",
        "y_zero=np.zeros(len(df_neg))\n",
        "\n",
        "#out of 9.43M positive-class data pts, 80% goes with test and 20% goes in train data\n",
        "x_train_pos,x_test_pos,y_train_pos,y_test_pos=train_test_split(df_pos,y_positive,test_size=0.2,random_state=42)\n",
        "x_train_zero,x_test_zero,y_train_zero,y_test_zero=train_test_split(df_neg,y_zero,test_size=0.2,random_state=42)\n",
        "\n",
        "X_train=x_train_pos.append(x_train_zero,ignore_index=True)\n",
        "X_test=x_test_pos.append(x_test_zero,ignore_index=True)\n",
        "\n",
        "\n",
        "Y_train=np.concatenate((y_train_pos, y_train_zero))\n",
        "Y_test=np.concatenate((y_test_pos, y_test_zero))\n",
        "\n",
        "print(X_train.shape)\n",
        "print(Y_train.shape)\n",
        "print(\"***\")\n",
        "print(X_test.shape)\n",
        "print(Y_test.shape)\n",
        "\n",
        " "
      ],
      "execution_count": null,
      "outputs": [
        {
          "output_type": "stream",
          "text": [
            "(15100030, 2)\n",
            "(15100030,)\n",
            "***\n",
            "(3775008, 2)\n",
            "(3775008,)\n"
          ],
          "name": "stdout"
        }
      ]
    },
    {
      "cell_type": "markdown",
      "metadata": {
        "id": "nHjj-khHORno"
      },
      "source": [
        "> we have a cold start problem here"
      ]
    },
    {
      "cell_type": "code",
      "metadata": {
        "colab": {
          "base_uri": "https://localhost:8080/",
          "height": 101
        },
        "id": "1AYVxLwiOTUe",
        "outputId": "ef4a8471-15a3-42de-9fe8-0b1ec012b7a5"
      },
      "source": [
        "print(\"shape of X_train data\", X_train.shape)\n",
        "print(\"shape of Y_train data\", Y_train.shape)\n",
        "print(\"***\")\n",
        "print(\"shape of X_test data\", X_test.shape)\n",
        "print(\"shape of Y_test data\",Y_test.shape)"
      ],
      "execution_count": null,
      "outputs": [
        {
          "output_type": "stream",
          "text": [
            "shape of X_train data (15100030, 2)\n",
            "shape of Y_train data (15100030,)\n",
            "***\n",
            "shape of X_test data (3775008, 2)\n",
            "shape of Y_test data (3775008,)\n"
          ],
          "name": "stdout"
        }
      ]
    },
    {
      "cell_type": "markdown",
      "metadata": {
        "id": "__E18KfCzxjI"
      },
      "source": [
        "Now since 15M and 3M are very large dataset, we will reduce it to 100k and 50k for computation"
      ]
    },
    {
      "cell_type": "code",
      "metadata": {
        "id": "ZM98dIlnzLfP"
      },
      "source": [
        "train_graph=nx.read_edgelist('/content/drive/My Drive/Facebook/data/after_eda/train_pos_after_eda.csv',delimiter=',',create_using=nx.DiGraph(),nodetype=int)\n",
        "test_graph=nx.read_edgelist('/content/drive/My Drive/Facebook/data/after_eda/test_pos_after_eda.csv',delimiter=',',create_using=nx.DiGraph(),nodetype=int)\n",
        " "
      ],
      "execution_count": null,
      "outputs": []
    },
    {
      "cell_type": "code",
      "metadata": {
        "colab": {
          "base_uri": "https://localhost:8080/",
          "height": 218
        },
        "id": "7D9Vfs4b8qiF",
        "outputId": "aec8db75-ca80-4cce-85c2-460e6ee5b0af"
      },
      "source": [
        "print(nx.info(train_graph))\n",
        "print(nx.info(test_graph))"
      ],
      "execution_count": null,
      "outputs": [
        {
          "output_type": "stream",
          "text": [
            "Name: \n",
            "Type: DiGraph\n",
            "Number of nodes: 1780722\n",
            "Number of edges: 7550015\n",
            "Average in degree:   4.2399\n",
            "Average out degree:   4.2399\n",
            "Name: \n",
            "Type: DiGraph\n",
            "Number of nodes: 1144623\n",
            "Number of edges: 1887504\n",
            "Average in degree:   1.6490\n",
            "Average out degree:   1.6490\n"
          ],
          "name": "stdout"
        }
      ]
    },
    {
      "cell_type": "code",
      "metadata": {
        "id": "QCJdEgTE84xk"
      },
      "source": [
        "#for followees\n",
        "def jaccard_for_followees(a,b):\n",
        "    try:\n",
        "        if len(set(train_graph.successors(a))) == 0  | len(set(train_graph.successors(b))) == 0:\n",
        "            return 0\n",
        "        sim = (len(set(train_graph.successors(a)).intersection(set(train_graph.successors(b)))))/\\\n",
        "                                    (len(set(train_graph.successors(a)).union(set(train_graph.successors(b)))))\n",
        "    except:\n",
        "        return 0\n",
        "    return sim\n",
        "\n",
        "#for followers\n",
        "def jaccard_for_followers(a,b):\n",
        "    try:\n",
        "        if len(set(train_graph.predecessors(a))) == 0  | len(set(g.predecessors(b))) == 0:\n",
        "            return 0\n",
        "        sim = (len(set(train_graph.predecessors(a)).intersection(set(train_graph.predecessors(b)))))/\\\n",
        "                                 (len(set(train_graph.predecessors(a)).union(set(train_graph.predecessors(b)))))\n",
        "        return sim\n",
        "    except:\n",
        "        return 0"
      ],
      "execution_count": null,
      "outputs": []
    },
    {
      "cell_type": "code",
      "metadata": {
        "id": "qs71_Cwc9rM6"
      },
      "source": [
        " "
      ],
      "execution_count": null,
      "outputs": []
    },
    {
      "cell_type": "code",
      "metadata": {
        "id": "5KgkqUfv9JIS"
      },
      "source": [
        "import random\n",
        "if os.path.isfile('/content/drive/My Drive/Facebook/data/after_eda/train_after_eda.csv'):\n",
        "    filename = \"/content/drive/My Drive/Facebook/data/after_eda/train_after_eda.csv\"\n",
        "    n_train =  15100029\n",
        "    s = 100000\n",
        "    skip_train = sorted(random.sample(range(1,n_train+1),n_train-s))"
      ],
      "execution_count": null,
      "outputs": []
    },
    {
      "cell_type": "code",
      "metadata": {
        "colab": {
          "base_uri": "https://localhost:8080/",
          "height": 123
        },
        "id": "Za6qvpDM9RIi",
        "outputId": "fa36db0a-6af2-49fd-d0dc-91c168da7ae3"
      },
      "source": [
        "df_final_train = pd.read_csv('/content/drive/My Drive/Facebook/data/after_eda/train_after_eda.csv', skiprows=skip_train, names=['source_node', 'destination_node'])\n",
        "df_final_train['indicator_link'] = pd.read_csv('/content/drive/My Drive/Facebook/data/train_y.csv', skiprows=skip_train, names=['indicator_link'])\n",
        "print(\"Our train matrix size \",df_final_train.shape)\n",
        "df_final_train.head(2)"
      ],
      "execution_count": null,
      "outputs": [
        {
          "output_type": "stream",
          "text": [
            "Our train matrix size  (100001, 3)\n"
          ],
          "name": "stdout"
        },
        {
          "output_type": "execute_result",
          "data": {
            "text/html": [
              "<div>\n",
              "<style scoped>\n",
              "    .dataframe tbody tr th:only-of-type {\n",
              "        vertical-align: middle;\n",
              "    }\n",
              "\n",
              "    .dataframe tbody tr th {\n",
              "        vertical-align: top;\n",
              "    }\n",
              "\n",
              "    .dataframe thead th {\n",
              "        text-align: right;\n",
              "    }\n",
              "</style>\n",
              "<table border=\"1\" class=\"dataframe\">\n",
              "  <thead>\n",
              "    <tr style=\"text-align: right;\">\n",
              "      <th></th>\n",
              "      <th>source_node</th>\n",
              "      <th>destination_node</th>\n",
              "      <th>indicator_link</th>\n",
              "    </tr>\n",
              "  </thead>\n",
              "  <tbody>\n",
              "    <tr>\n",
              "      <th>0</th>\n",
              "      <td>273084</td>\n",
              "      <td>1505602</td>\n",
              "      <td>1</td>\n",
              "    </tr>\n",
              "    <tr>\n",
              "      <th>1</th>\n",
              "      <td>1564561</td>\n",
              "      <td>1191081</td>\n",
              "      <td>1</td>\n",
              "    </tr>\n",
              "  </tbody>\n",
              "</table>\n",
              "</div>"
            ],
            "text/plain": [
              "   source_node  destination_node  indicator_link\n",
              "0       273084           1505602               1\n",
              "1      1564561           1191081               1"
            ]
          },
          "metadata": {
            "tags": []
          },
          "execution_count": 13
        }
      ]
    },
    {
      "cell_type": "code",
      "metadata": {
        "id": "dnfD4LIn-pGH"
      },
      "source": [
        "\n",
        "if os.path.isfile('/content/drive/My Drive/Facebook/data/after_eda/test_after_eda.csv'):\n",
        "    filename = '/content/drive/My Drive/Facebook/data/after_eda/test_after_eda.csv'\n",
        "    # you uncomment this line, if you dont know the lentgh of the file name\n",
        "    # here we have hardcoded the number of lines as 3775008\n",
        "    # n_test = sum(1 for line in open(filename)) #number of records in file (excludes header)\n",
        "    n_test = 3775006\n",
        "    s = 50000 #desired sample size\n",
        "    skip_test = sorted(random.sample(range(1,n_test+1),n_test-s))"
      ],
      "execution_count": null,
      "outputs": []
    },
    {
      "cell_type": "code",
      "metadata": {
        "colab": {
          "base_uri": "https://localhost:8080/",
          "height": 123
        },
        "id": "hKG1QXXH-yL2",
        "outputId": "84acca79-0213-475b-d647-7398a47ba098"
      },
      "source": [
        "df_final_test = pd.read_csv('/content/drive/My Drive/Facebook/data/after_eda/test_after_eda.csv', skiprows=skip_test, names=['source_node', 'destination_node'])\n",
        "df_final_test['indicator_link'] = pd.read_csv('/content/drive/My Drive/Facebook/data/test_y.csv', skiprows=skip_test, names=['indicator_link'])\n",
        "print(\"Our test matrix size \",df_final_test.shape)\n",
        "df_final_test.head(2)"
      ],
      "execution_count": null,
      "outputs": [
        {
          "output_type": "stream",
          "text": [
            "Our test matrix size  (50002, 3)\n"
          ],
          "name": "stdout"
        },
        {
          "output_type": "execute_result",
          "data": {
            "text/html": [
              "<div>\n",
              "<style scoped>\n",
              "    .dataframe tbody tr th:only-of-type {\n",
              "        vertical-align: middle;\n",
              "    }\n",
              "\n",
              "    .dataframe tbody tr th {\n",
              "        vertical-align: top;\n",
              "    }\n",
              "\n",
              "    .dataframe thead th {\n",
              "        text-align: right;\n",
              "    }\n",
              "</style>\n",
              "<table border=\"1\" class=\"dataframe\">\n",
              "  <thead>\n",
              "    <tr style=\"text-align: right;\">\n",
              "      <th></th>\n",
              "      <th>source_node</th>\n",
              "      <th>destination_node</th>\n",
              "      <th>indicator_link</th>\n",
              "    </tr>\n",
              "  </thead>\n",
              "  <tbody>\n",
              "    <tr>\n",
              "      <th>0</th>\n",
              "      <td>848424</td>\n",
              "      <td>784690</td>\n",
              "      <td>1</td>\n",
              "    </tr>\n",
              "    <tr>\n",
              "      <th>1</th>\n",
              "      <td>1110670</td>\n",
              "      <td>731849</td>\n",
              "      <td>1</td>\n",
              "    </tr>\n",
              "  </tbody>\n",
              "</table>\n",
              "</div>"
            ],
            "text/plain": [
              "   source_node  destination_node  indicator_link\n",
              "0       848424            784690               1\n",
              "1      1110670            731849               1"
            ]
          },
          "metadata": {
            "tags": []
          },
          "execution_count": 15
        }
      ]
    },
    {
      "cell_type": "code",
      "metadata": {
        "id": "mIq0qFN7_wMm"
      },
      "source": [
        "df_final_train['jaccard_followers'] = df_final_train.apply(lambda row:jaccard_for_followers(row['source_node'],row['destination_node']),axis=1)\n",
        "df_final_test['jaccard_followers'] = df_final_test.apply(lambda row:jaccard_for_followers(row['source_node'],row['destination_node']),axis=1)\n"
      ],
      "execution_count": null,
      "outputs": []
    },
    {
      "cell_type": "code",
      "metadata": {
        "id": "CZvDONBCAQJa"
      },
      "source": [
        "df_final_train['jaccard_followees'] = df_final_train.apply(lambda row:\n",
        "                                            jaccard_for_followees(row['source_node'],row['destination_node']),axis=1)\n",
        "df_final_test['jaccard_followees'] = df_final_test.apply(lambda row:\n",
        "                                            jaccard_for_followees(row['source_node'],row['destination_node']),axis=1)\n"
      ],
      "execution_count": null,
      "outputs": []
    },
    {
      "cell_type": "code",
      "metadata": {
        "colab": {
          "base_uri": "https://localhost:8080/",
          "height": 195
        },
        "id": "SOMjLRiYBR7g",
        "outputId": "9ab0b98a-a711-4e2b-aec2-113cda135624"
      },
      "source": [
        " df_final_train.head()"
      ],
      "execution_count": null,
      "outputs": [
        {
          "output_type": "execute_result",
          "data": {
            "text/html": [
              "<div>\n",
              "<style scoped>\n",
              "    .dataframe tbody tr th:only-of-type {\n",
              "        vertical-align: middle;\n",
              "    }\n",
              "\n",
              "    .dataframe tbody tr th {\n",
              "        vertical-align: top;\n",
              "    }\n",
              "\n",
              "    .dataframe thead th {\n",
              "        text-align: right;\n",
              "    }\n",
              "</style>\n",
              "<table border=\"1\" class=\"dataframe\">\n",
              "  <thead>\n",
              "    <tr style=\"text-align: right;\">\n",
              "      <th></th>\n",
              "      <th>source_node</th>\n",
              "      <th>destination_node</th>\n",
              "      <th>indicator_link</th>\n",
              "      <th>jaccard_followers</th>\n",
              "      <th>jaccard_followees</th>\n",
              "    </tr>\n",
              "  </thead>\n",
              "  <tbody>\n",
              "    <tr>\n",
              "      <th>0</th>\n",
              "      <td>273084</td>\n",
              "      <td>1505602</td>\n",
              "      <td>1</td>\n",
              "      <td>0.000000</td>\n",
              "      <td>0.000000</td>\n",
              "    </tr>\n",
              "    <tr>\n",
              "      <th>1</th>\n",
              "      <td>1564561</td>\n",
              "      <td>1191081</td>\n",
              "      <td>1</td>\n",
              "      <td>0.000000</td>\n",
              "      <td>0.000000</td>\n",
              "    </tr>\n",
              "    <tr>\n",
              "      <th>2</th>\n",
              "      <td>472567</td>\n",
              "      <td>694039</td>\n",
              "      <td>1</td>\n",
              "      <td>0.000000</td>\n",
              "      <td>0.000000</td>\n",
              "    </tr>\n",
              "    <tr>\n",
              "      <th>3</th>\n",
              "      <td>669673</td>\n",
              "      <td>29292</td>\n",
              "      <td>1</td>\n",
              "      <td>0.000000</td>\n",
              "      <td>0.250000</td>\n",
              "    </tr>\n",
              "    <tr>\n",
              "      <th>4</th>\n",
              "      <td>1510102</td>\n",
              "      <td>1550962</td>\n",
              "      <td>1</td>\n",
              "      <td>0.032258</td>\n",
              "      <td>0.029412</td>\n",
              "    </tr>\n",
              "  </tbody>\n",
              "</table>\n",
              "</div>"
            ],
            "text/plain": [
              "   source_node  destination_node  ...  jaccard_followers  jaccard_followees\n",
              "0       273084           1505602  ...           0.000000           0.000000\n",
              "1      1564561           1191081  ...           0.000000           0.000000\n",
              "2       472567            694039  ...           0.000000           0.000000\n",
              "3       669673             29292  ...           0.000000           0.250000\n",
              "4      1510102           1550962  ...           0.032258           0.029412\n",
              "\n",
              "[5 rows x 5 columns]"
            ]
          },
          "metadata": {
            "tags": []
          },
          "execution_count": 18
        }
      ]
    },
    {
      "cell_type": "markdown",
      "metadata": {
        "id": "yQprlz7xCMfH"
      },
      "source": [
        "Cosine Similarity for Test and train"
      ]
    },
    {
      "cell_type": "code",
      "metadata": {
        "id": "vbK-RqGsCQRZ"
      },
      "source": [
        "def cosine_for_followees(a,b):\n",
        "    try:\n",
        "        if len(set(train_graph.successors(a))) == 0  | len(set(train_graph.successors(b))) == 0:\n",
        "            return 0\n",
        "        sim = (len(set(train_graph.successors(a)).intersection(set(train_graph.successors(b)))))/\\\n",
        "                                    (math.sqrt(len(set(train_graph.successors(a)))*len((set(train_graph.successors(b))))))\n",
        "        return sim\n",
        "    except:\n",
        "        return 0\n",
        "\n",
        "\n",
        "\n",
        "def cosine_for_followers(a,b):\n",
        "    try:\n",
        "        \n",
        "        if len(set(train_graph.predecessors(a))) == 0  | len(set(train_graph.predecessors(b))) == 0:\n",
        "            return 0\n",
        "        sim = (len(set(train_graph.predecessors(a)).intersection(set(train_graph.predecessors(b)))))/\\\n",
        "                                     (math.sqrt(len(set(train_graph.predecessors(a))))*(len(set(train_graph.predecessors(b)))))\n",
        "        return sim\n",
        "    except:\n",
        "        return 0"
      ],
      "execution_count": null,
      "outputs": []
    },
    {
      "cell_type": "code",
      "metadata": {
        "id": "qDG_7hE1Qm4q"
      },
      "source": [
        "df_final_train['cos_followers'] = df_final_train.apply(lambda row:cosine_for_followers(row['source_node'],row['destination_node']),axis=1)\n",
        "df_final_test['cos_followers'] = df_final_test.apply(lambda row:cosine_for_followers(row['source_node'],row['destination_node']),axis=1)\n"
      ],
      "execution_count": null,
      "outputs": []
    },
    {
      "cell_type": "code",
      "metadata": {
        "id": "MVaDb38kQ5Pv"
      },
      "source": [
        "df_final_train['cos_followee'] = df_final_train.apply(lambda row:cosine_for_followees(row['source_node'],row['destination_node']),axis=1)\n",
        "df_final_test['cos_followee'] = df_final_test.apply(lambda row:cosine_for_followees(row['source_node'],row['destination_node']),axis=1)\n"
      ],
      "execution_count": null,
      "outputs": []
    },
    {
      "cell_type": "code",
      "metadata": {
        "id": "oa6ojsDSRE-P"
      },
      "source": [
        ""
      ],
      "execution_count": null,
      "outputs": []
    },
    {
      "cell_type": "markdown",
      "metadata": {
        "id": "OqTLkQbem9Ne"
      },
      "source": [
        "\n",
        "**Page Rank for both Source and Destination Node ** "
      ]
    },
    {
      "cell_type": "code",
      "metadata": {
        "id": "9kzAzvOCnLTz"
      },
      "source": [
        "pr = nx.pagerank(train_graph, alpha=0.85)"
      ],
      "execution_count": null,
      "outputs": []
    },
    {
      "cell_type": "code",
      "metadata": {
        "id": "8kNzcKlzn8YP"
      },
      "source": [
        "mean_pr = float(sum(pr.values())) / len(pr)\n"
      ],
      "execution_count": null,
      "outputs": []
    },
    {
      "cell_type": "code",
      "metadata": {
        "id": "cywHBq-HnwDq"
      },
      "source": [
        "df_final_train['page_rank_s'] = df_final_train.source_node.apply(lambda x:pr.get(x,mean_pr))\n",
        "\n",
        "df_final_train['page_rank_d'] = df_final_train.destination_node.apply(lambda x:pr.get(x,mean_pr))\n",
        "\n",
        "df_final_test['page_rank_s'] = df_final_test.source_node.apply(lambda x:pr.get(x,mean_pr))\n",
        "\n",
        "df_final_test['page_rank_d'] = df_final_test.destination_node.apply(lambda x:pr.get(x,mean_pr))\n"
      ],
      "execution_count": null,
      "outputs": []
    },
    {
      "cell_type": "code",
      "metadata": {
        "colab": {
          "base_uri": "https://localhost:8080/",
          "height": 195
        },
        "id": "I_ok1p8Jozl9",
        "outputId": "0f84d158-9886-470a-f484-4b0c93c769a5"
      },
      "source": [
        "df_final_test.head()"
      ],
      "execution_count": null,
      "outputs": [
        {
          "output_type": "execute_result",
          "data": {
            "text/html": [
              "<div>\n",
              "<style scoped>\n",
              "    .dataframe tbody tr th:only-of-type {\n",
              "        vertical-align: middle;\n",
              "    }\n",
              "\n",
              "    .dataframe tbody tr th {\n",
              "        vertical-align: top;\n",
              "    }\n",
              "\n",
              "    .dataframe thead th {\n",
              "        text-align: right;\n",
              "    }\n",
              "</style>\n",
              "<table border=\"1\" class=\"dataframe\">\n",
              "  <thead>\n",
              "    <tr style=\"text-align: right;\">\n",
              "      <th></th>\n",
              "      <th>source_node</th>\n",
              "      <th>destination_node</th>\n",
              "      <th>indicator_link</th>\n",
              "      <th>jaccard_followers</th>\n",
              "      <th>jaccard_followees</th>\n",
              "      <th>cos_followers</th>\n",
              "      <th>cos_followee</th>\n",
              "      <th>page_rank_s</th>\n",
              "      <th>page_rank_d</th>\n",
              "    </tr>\n",
              "  </thead>\n",
              "  <tbody>\n",
              "    <tr>\n",
              "      <th>0</th>\n",
              "      <td>848424</td>\n",
              "      <td>784690</td>\n",
              "      <td>1</td>\n",
              "      <td>0.052632</td>\n",
              "      <td>0.000000</td>\n",
              "      <td>0.029161</td>\n",
              "      <td>0.000000</td>\n",
              "      <td>6.557971e-07</td>\n",
              "      <td>1.559547e-06</td>\n",
              "    </tr>\n",
              "    <tr>\n",
              "      <th>1</th>\n",
              "      <td>1110670</td>\n",
              "      <td>731849</td>\n",
              "      <td>1</td>\n",
              "      <td>0.000000</td>\n",
              "      <td>0.000000</td>\n",
              "      <td>0.000000</td>\n",
              "      <td>0.000000</td>\n",
              "      <td>3.189939e-07</td>\n",
              "      <td>1.429444e-06</td>\n",
              "    </tr>\n",
              "    <tr>\n",
              "      <th>2</th>\n",
              "      <td>713880</td>\n",
              "      <td>167361</td>\n",
              "      <td>1</td>\n",
              "      <td>0.000000</td>\n",
              "      <td>0.000000</td>\n",
              "      <td>0.000000</td>\n",
              "      <td>0.000000</td>\n",
              "      <td>9.345818e-07</td>\n",
              "      <td>1.154745e-06</td>\n",
              "    </tr>\n",
              "    <tr>\n",
              "      <th>3</th>\n",
              "      <td>532612</td>\n",
              "      <td>296772</td>\n",
              "      <td>1</td>\n",
              "      <td>0.000000</td>\n",
              "      <td>0.000000</td>\n",
              "      <td>0.000000</td>\n",
              "      <td>0.000000</td>\n",
              "      <td>1.167967e-06</td>\n",
              "      <td>4.572694e-07</td>\n",
              "    </tr>\n",
              "    <tr>\n",
              "      <th>4</th>\n",
              "      <td>1190268</td>\n",
              "      <td>217891</td>\n",
              "      <td>1</td>\n",
              "      <td>0.062500</td>\n",
              "      <td>0.098039</td>\n",
              "      <td>0.030264</td>\n",
              "      <td>0.184428</td>\n",
              "      <td>1.239734e-06</td>\n",
              "      <td>2.329951e-06</td>\n",
              "    </tr>\n",
              "  </tbody>\n",
              "</table>\n",
              "</div>"
            ],
            "text/plain": [
              "   source_node  destination_node  ...   page_rank_s   page_rank_d\n",
              "0       848424            784690  ...  6.557971e-07  1.559547e-06\n",
              "1      1110670            731849  ...  3.189939e-07  1.429444e-06\n",
              "2       713880            167361  ...  9.345818e-07  1.154745e-06\n",
              "3       532612            296772  ...  1.167967e-06  4.572694e-07\n",
              "4      1190268            217891  ...  1.239734e-06  2.329951e-06\n",
              "\n",
              "[5 rows x 9 columns]"
            ]
          },
          "metadata": {
            "tags": []
          },
          "execution_count": 25
        }
      ]
    },
    {
      "cell_type": "markdown",
      "metadata": {
        "id": "QsLIPE3YpMCG"
      },
      "source": [
        ""
      ]
    },
    {
      "cell_type": "markdown",
      "metadata": {
        "id": "DB4QRmhItJGX"
      },
      "source": [
        "# Shortest Path"
      ]
    },
    {
      "cell_type": "code",
      "metadata": {
        "id": "hzBoX6TKn7E8"
      },
      "source": [
        "def shortest_path_length(a,b):\n",
        "  p=-1\n",
        "  try:\n",
        "    if train_graph.has_edge(a,b):\n",
        "      train_graph.remove_edge(a,b)\n",
        "      p= nx.shortest_path_length(train_graph,source=a,target=b)\n",
        "      train_graph.add_edge(a,b)\n",
        "    else:\n",
        "      p= nx.shortest_path_length(train_graph,source=a,target=b)\n",
        "    return p\n",
        "  except:\n",
        "    return -1\n",
        "\n",
        "def shortest_path_length_test(a,b):\n",
        "  p=-1\n",
        "  try:\n",
        "    if test_graph.has_edge(a,b):\n",
        "      test_graph.remove_edge(a,b)\n",
        "      p= nx.shortest_path_length(test_graph,source=a,target=b)\n",
        "      test_graph.add_edge(a,b)\n",
        "    else:\n",
        "      p= nx.shortest_path_length(test_graph,source=a,target=b)\n",
        "    return p\n",
        "  except:\n",
        "    return -1"
      ],
      "execution_count": null,
      "outputs": []
    },
    {
      "cell_type": "code",
      "metadata": {
        "colab": {
          "base_uri": "https://localhost:8080/",
          "height": 34
        },
        "id": "YQDjT7cuwFl3",
        "outputId": "c815207e-c723-4252-9f48-53b47cf61d9b"
      },
      "source": [
        "print(shortest_path_length(77697, 826021))"
      ],
      "execution_count": null,
      "outputs": [
        {
          "output_type": "stream",
          "text": [
            "10\n"
          ],
          "name": "stdout"
        }
      ]
    },
    {
      "cell_type": "code",
      "metadata": {
        "id": "_-_CWxGjwFdB"
      },
      "source": [
        "df_final_train['shortest_path'] = df_final_train.apply(lambda row: shortest_path_length(row['source_node'],row['destination_node']),axis=1)\n",
        "df_final_test['shortest_path'] = df_final_test.apply(lambda row: shortest_path_length_test(row['source_node'],row['destination_node']),axis=1)"
      ],
      "execution_count": null,
      "outputs": []
    },
    {
      "cell_type": "code",
      "metadata": {
        "colab": {
          "base_uri": "https://localhost:8080/",
          "height": 195
        },
        "id": "_nhT5SJGyUQg",
        "outputId": "d43fdde2-3db7-47a7-e66f-626c24129e8c"
      },
      "source": [
        "df_final_train.head()"
      ],
      "execution_count": null,
      "outputs": [
        {
          "output_type": "execute_result",
          "data": {
            "text/html": [
              "<div>\n",
              "<style scoped>\n",
              "    .dataframe tbody tr th:only-of-type {\n",
              "        vertical-align: middle;\n",
              "    }\n",
              "\n",
              "    .dataframe tbody tr th {\n",
              "        vertical-align: top;\n",
              "    }\n",
              "\n",
              "    .dataframe thead th {\n",
              "        text-align: right;\n",
              "    }\n",
              "</style>\n",
              "<table border=\"1\" class=\"dataframe\">\n",
              "  <thead>\n",
              "    <tr style=\"text-align: right;\">\n",
              "      <th></th>\n",
              "      <th>source_node</th>\n",
              "      <th>destination_node</th>\n",
              "      <th>indicator_link</th>\n",
              "      <th>jaccard_followers</th>\n",
              "      <th>jaccard_followees</th>\n",
              "      <th>cos_followers</th>\n",
              "      <th>cos_followee</th>\n",
              "      <th>page_rank_s</th>\n",
              "      <th>page_rank_d</th>\n",
              "      <th>shortest_path</th>\n",
              "    </tr>\n",
              "  </thead>\n",
              "  <tbody>\n",
              "    <tr>\n",
              "      <th>0</th>\n",
              "      <td>273084</td>\n",
              "      <td>1505602</td>\n",
              "      <td>1</td>\n",
              "      <td>0.000000</td>\n",
              "      <td>0.000000</td>\n",
              "      <td>0.000000</td>\n",
              "      <td>0.000000</td>\n",
              "      <td>2.045290e-06</td>\n",
              "      <td>3.459963e-07</td>\n",
              "      <td>4</td>\n",
              "    </tr>\n",
              "    <tr>\n",
              "      <th>1</th>\n",
              "      <td>1564561</td>\n",
              "      <td>1191081</td>\n",
              "      <td>1</td>\n",
              "      <td>0.000000</td>\n",
              "      <td>0.000000</td>\n",
              "      <td>0.000000</td>\n",
              "      <td>0.000000</td>\n",
              "      <td>1.655650e-07</td>\n",
              "      <td>2.353348e-06</td>\n",
              "      <td>-1</td>\n",
              "    </tr>\n",
              "    <tr>\n",
              "      <th>2</th>\n",
              "      <td>472567</td>\n",
              "      <td>694039</td>\n",
              "      <td>1</td>\n",
              "      <td>0.000000</td>\n",
              "      <td>0.000000</td>\n",
              "      <td>0.000000</td>\n",
              "      <td>0.000000</td>\n",
              "      <td>5.563571e-07</td>\n",
              "      <td>2.175205e-07</td>\n",
              "      <td>4</td>\n",
              "    </tr>\n",
              "    <tr>\n",
              "      <th>3</th>\n",
              "      <td>669673</td>\n",
              "      <td>29292</td>\n",
              "      <td>1</td>\n",
              "      <td>0.000000</td>\n",
              "      <td>0.250000</td>\n",
              "      <td>0.000000</td>\n",
              "      <td>0.408248</td>\n",
              "      <td>1.148647e-06</td>\n",
              "      <td>2.451207e-07</td>\n",
              "      <td>-1</td>\n",
              "    </tr>\n",
              "    <tr>\n",
              "      <th>4</th>\n",
              "      <td>1510102</td>\n",
              "      <td>1550962</td>\n",
              "      <td>1</td>\n",
              "      <td>0.032258</td>\n",
              "      <td>0.029412</td>\n",
              "      <td>0.025516</td>\n",
              "      <td>0.068041</td>\n",
              "      <td>1.721153e-06</td>\n",
              "      <td>1.811077e-06</td>\n",
              "      <td>2</td>\n",
              "    </tr>\n",
              "  </tbody>\n",
              "</table>\n",
              "</div>"
            ],
            "text/plain": [
              "   source_node  destination_node  ...   page_rank_d  shortest_path\n",
              "0       273084           1505602  ...  3.459963e-07              4\n",
              "1      1564561           1191081  ...  2.353348e-06             -1\n",
              "2       472567            694039  ...  2.175205e-07              4\n",
              "3       669673             29292  ...  2.451207e-07             -1\n",
              "4      1510102           1550962  ...  1.811077e-06              2\n",
              "\n",
              "[5 rows x 10 columns]"
            ]
          },
          "metadata": {
            "tags": []
          },
          "execution_count": 29
        }
      ]
    },
    {
      "cell_type": "code",
      "metadata": {
        "id": "wB9Etkg9cARi"
      },
      "source": [
        " #getting weekly connected edges from graph \n",
        "wcc=list(nx.weakly_connected_components(train_graph))\n",
        "def belongs_to_same_wcc(a,b):\n",
        "    index = []\n",
        "    if train_graph.has_edge(b,a):\n",
        "        return 1\n",
        "    if train_graph.has_edge(a,b):\n",
        "            for i in wcc:\n",
        "                if a in i:\n",
        "                    index= i\n",
        "                    break\n",
        "            if (b in index):\n",
        "                train_graph.remove_edge(a,b)\n",
        "                if shortest_path_length(a,b)==-1:\n",
        "                    train_graph.add_edge(a,b)\n",
        "                    return 0\n",
        "                else:\n",
        "                    train_graph.add_edge(a,b)\n",
        "                    return 1\n",
        "            else:\n",
        "                return 0\n",
        "    else:\n",
        "            for i in wcc:\n",
        "                if a in i:\n",
        "                    index= i\n",
        "                    break\n",
        "            if(b in index):\n",
        "                return 1\n",
        "            else:\n",
        "                return 0"
      ],
      "execution_count": null,
      "outputs": []
    },
    {
      "cell_type": "code",
      "metadata": {
        "id": "2qll3cFgrkQ2"
      },
      "source": [
        "wcc=list(nx.weakly_connected_components(test_graph))\n",
        "def belongs_to_same_wcc_test(a,b):\n",
        "    index = []\n",
        "    if test_graph.has_edge(b,a):\n",
        "        return 1\n",
        "    if test_graph.has_edge(a,b):\n",
        "            for i in wcc:\n",
        "                if a in i:\n",
        "                    index= i\n",
        "                    break\n",
        "            if (b in index):\n",
        "                test_graph.remove_edge(a,b)\n",
        "                if shortest_path_length_test(a,b)==-1:\n",
        "                    test_graph.add_edge(a,b)\n",
        "                    return 0\n",
        "                else:\n",
        "                    test_graph.add_edge(a,b)\n",
        "                    return 1\n",
        "            else:\n",
        "                return 0\n",
        "    else:\n",
        "            for i in wcc:\n",
        "                if a in i:\n",
        "                    index= i\n",
        "                    break\n",
        "            if(b in index):\n",
        "                return 1\n",
        "            else:\n",
        "                return 0"
      ],
      "execution_count": null,
      "outputs": []
    },
    {
      "cell_type": "code",
      "metadata": {
        "id": "RuwpE4eVgzpW"
      },
      "source": [
        "df_final_train['belongs_wcc'] = df_final_train.apply(lambda row: belongs_to_same_wcc(row['source_node'],row['destination_node']),axis=1)\n"
      ],
      "execution_count": null,
      "outputs": []
    },
    {
      "cell_type": "code",
      "metadata": {
        "colab": {
          "base_uri": "https://localhost:8080/",
          "height": 195
        },
        "id": "xgCSTzyXuLTU",
        "outputId": "22ae9487-65ce-4746-c8bf-e0cf1c0be2c3"
      },
      "source": [
        "df_final_train.head()"
      ],
      "execution_count": null,
      "outputs": [
        {
          "output_type": "execute_result",
          "data": {
            "text/html": [
              "<div>\n",
              "<style scoped>\n",
              "    .dataframe tbody tr th:only-of-type {\n",
              "        vertical-align: middle;\n",
              "    }\n",
              "\n",
              "    .dataframe tbody tr th {\n",
              "        vertical-align: top;\n",
              "    }\n",
              "\n",
              "    .dataframe thead th {\n",
              "        text-align: right;\n",
              "    }\n",
              "</style>\n",
              "<table border=\"1\" class=\"dataframe\">\n",
              "  <thead>\n",
              "    <tr style=\"text-align: right;\">\n",
              "      <th></th>\n",
              "      <th>source_node</th>\n",
              "      <th>destination_node</th>\n",
              "      <th>indicator_link</th>\n",
              "      <th>jaccard_followers</th>\n",
              "      <th>jaccard_followees</th>\n",
              "      <th>cos_followers</th>\n",
              "      <th>cos_followee</th>\n",
              "      <th>page_rank_s</th>\n",
              "      <th>page_rank_d</th>\n",
              "      <th>shortest_path</th>\n",
              "      <th>belongs_wcc</th>\n",
              "    </tr>\n",
              "  </thead>\n",
              "  <tbody>\n",
              "    <tr>\n",
              "      <th>0</th>\n",
              "      <td>273084</td>\n",
              "      <td>1505602</td>\n",
              "      <td>1</td>\n",
              "      <td>0.000000</td>\n",
              "      <td>0.000000</td>\n",
              "      <td>0.000000</td>\n",
              "      <td>0.000000</td>\n",
              "      <td>2.045290e-06</td>\n",
              "      <td>3.459963e-07</td>\n",
              "      <td>4</td>\n",
              "      <td>1</td>\n",
              "    </tr>\n",
              "    <tr>\n",
              "      <th>1</th>\n",
              "      <td>1564561</td>\n",
              "      <td>1191081</td>\n",
              "      <td>1</td>\n",
              "      <td>0.000000</td>\n",
              "      <td>0.000000</td>\n",
              "      <td>0.000000</td>\n",
              "      <td>0.000000</td>\n",
              "      <td>1.655650e-07</td>\n",
              "      <td>2.353348e-06</td>\n",
              "      <td>-1</td>\n",
              "      <td>0</td>\n",
              "    </tr>\n",
              "    <tr>\n",
              "      <th>2</th>\n",
              "      <td>472567</td>\n",
              "      <td>694039</td>\n",
              "      <td>1</td>\n",
              "      <td>0.000000</td>\n",
              "      <td>0.000000</td>\n",
              "      <td>0.000000</td>\n",
              "      <td>0.000000</td>\n",
              "      <td>5.563571e-07</td>\n",
              "      <td>2.175205e-07</td>\n",
              "      <td>4</td>\n",
              "      <td>1</td>\n",
              "    </tr>\n",
              "    <tr>\n",
              "      <th>3</th>\n",
              "      <td>669673</td>\n",
              "      <td>29292</td>\n",
              "      <td>1</td>\n",
              "      <td>0.000000</td>\n",
              "      <td>0.250000</td>\n",
              "      <td>0.000000</td>\n",
              "      <td>0.408248</td>\n",
              "      <td>1.148647e-06</td>\n",
              "      <td>2.451207e-07</td>\n",
              "      <td>-1</td>\n",
              "      <td>1</td>\n",
              "    </tr>\n",
              "    <tr>\n",
              "      <th>4</th>\n",
              "      <td>1510102</td>\n",
              "      <td>1550962</td>\n",
              "      <td>1</td>\n",
              "      <td>0.032258</td>\n",
              "      <td>0.029412</td>\n",
              "      <td>0.025516</td>\n",
              "      <td>0.068041</td>\n",
              "      <td>1.721153e-06</td>\n",
              "      <td>1.811077e-06</td>\n",
              "      <td>2</td>\n",
              "      <td>1</td>\n",
              "    </tr>\n",
              "  </tbody>\n",
              "</table>\n",
              "</div>"
            ],
            "text/plain": [
              "   source_node  destination_node  ...  shortest_path  belongs_wcc\n",
              "0       273084           1505602  ...              4            1\n",
              "1      1564561           1191081  ...             -1            0\n",
              "2       472567            694039  ...              4            1\n",
              "3       669673             29292  ...             -1            1\n",
              "4      1510102           1550962  ...              2            1\n",
              "\n",
              "[5 rows x 11 columns]"
            ]
          },
          "metadata": {
            "tags": []
          },
          "execution_count": 33
        }
      ]
    },
    {
      "cell_type": "code",
      "metadata": {
        "id": "IjV6yeF0qXXC"
      },
      "source": [
        "df_final_test['belongs_wcc'] = df_final_test.apply(lambda row: belongs_to_same_wcc_test(row['source_node'],row['destination_node']),axis=1)"
      ],
      "execution_count": null,
      "outputs": []
    },
    {
      "cell_type": "code",
      "metadata": {
        "colab": {
          "base_uri": "https://localhost:8080/",
          "height": 402
        },
        "id": "zKGVh8BGuu0f",
        "outputId": "a58c562f-c2d2-4def-ed43-2cd80825ec52"
      },
      "source": [
        "df_final_test"
      ],
      "execution_count": null,
      "outputs": [
        {
          "output_type": "execute_result",
          "data": {
            "text/html": [
              "<div>\n",
              "<style scoped>\n",
              "    .dataframe tbody tr th:only-of-type {\n",
              "        vertical-align: middle;\n",
              "    }\n",
              "\n",
              "    .dataframe tbody tr th {\n",
              "        vertical-align: top;\n",
              "    }\n",
              "\n",
              "    .dataframe thead th {\n",
              "        text-align: right;\n",
              "    }\n",
              "</style>\n",
              "<table border=\"1\" class=\"dataframe\">\n",
              "  <thead>\n",
              "    <tr style=\"text-align: right;\">\n",
              "      <th></th>\n",
              "      <th>source_node</th>\n",
              "      <th>destination_node</th>\n",
              "      <th>indicator_link</th>\n",
              "      <th>jaccard_followers</th>\n",
              "      <th>jaccard_followees</th>\n",
              "      <th>cos_followers</th>\n",
              "      <th>cos_followee</th>\n",
              "      <th>page_rank_s</th>\n",
              "      <th>page_rank_d</th>\n",
              "      <th>shortest_path</th>\n",
              "      <th>belongs_wcc</th>\n",
              "    </tr>\n",
              "  </thead>\n",
              "  <tbody>\n",
              "    <tr>\n",
              "      <th>0</th>\n",
              "      <td>848424</td>\n",
              "      <td>784690</td>\n",
              "      <td>1</td>\n",
              "      <td>0.052632</td>\n",
              "      <td>0.000000</td>\n",
              "      <td>0.029161</td>\n",
              "      <td>0.000000</td>\n",
              "      <td>6.557971e-07</td>\n",
              "      <td>1.559547e-06</td>\n",
              "      <td>-1</td>\n",
              "      <td>1</td>\n",
              "    </tr>\n",
              "    <tr>\n",
              "      <th>1</th>\n",
              "      <td>1110670</td>\n",
              "      <td>731849</td>\n",
              "      <td>1</td>\n",
              "      <td>0.000000</td>\n",
              "      <td>0.000000</td>\n",
              "      <td>0.000000</td>\n",
              "      <td>0.000000</td>\n",
              "      <td>3.189939e-07</td>\n",
              "      <td>1.429444e-06</td>\n",
              "      <td>-1</td>\n",
              "      <td>0</td>\n",
              "    </tr>\n",
              "    <tr>\n",
              "      <th>2</th>\n",
              "      <td>713880</td>\n",
              "      <td>167361</td>\n",
              "      <td>1</td>\n",
              "      <td>0.000000</td>\n",
              "      <td>0.000000</td>\n",
              "      <td>0.000000</td>\n",
              "      <td>0.000000</td>\n",
              "      <td>9.345818e-07</td>\n",
              "      <td>1.154745e-06</td>\n",
              "      <td>11</td>\n",
              "      <td>1</td>\n",
              "    </tr>\n",
              "    <tr>\n",
              "      <th>3</th>\n",
              "      <td>532612</td>\n",
              "      <td>296772</td>\n",
              "      <td>1</td>\n",
              "      <td>0.000000</td>\n",
              "      <td>0.000000</td>\n",
              "      <td>0.000000</td>\n",
              "      <td>0.000000</td>\n",
              "      <td>1.167967e-06</td>\n",
              "      <td>4.572694e-07</td>\n",
              "      <td>-1</td>\n",
              "      <td>1</td>\n",
              "    </tr>\n",
              "    <tr>\n",
              "      <th>4</th>\n",
              "      <td>1190268</td>\n",
              "      <td>217891</td>\n",
              "      <td>1</td>\n",
              "      <td>0.062500</td>\n",
              "      <td>0.098039</td>\n",
              "      <td>0.030264</td>\n",
              "      <td>0.184428</td>\n",
              "      <td>1.239734e-06</td>\n",
              "      <td>2.329951e-06</td>\n",
              "      <td>3</td>\n",
              "      <td>1</td>\n",
              "    </tr>\n",
              "    <tr>\n",
              "      <th>...</th>\n",
              "      <td>...</td>\n",
              "      <td>...</td>\n",
              "      <td>...</td>\n",
              "      <td>...</td>\n",
              "      <td>...</td>\n",
              "      <td>...</td>\n",
              "      <td>...</td>\n",
              "      <td>...</td>\n",
              "      <td>...</td>\n",
              "      <td>...</td>\n",
              "      <td>...</td>\n",
              "    </tr>\n",
              "    <tr>\n",
              "      <th>49997</th>\n",
              "      <td>1347215</td>\n",
              "      <td>113076</td>\n",
              "      <td>0</td>\n",
              "      <td>0.000000</td>\n",
              "      <td>0.000000</td>\n",
              "      <td>0.000000</td>\n",
              "      <td>0.000000</td>\n",
              "      <td>5.615700e-07</td>\n",
              "      <td>5.615700e-07</td>\n",
              "      <td>-1</td>\n",
              "      <td>0</td>\n",
              "    </tr>\n",
              "    <tr>\n",
              "      <th>49998</th>\n",
              "      <td>1409037</td>\n",
              "      <td>1708462</td>\n",
              "      <td>0</td>\n",
              "      <td>0.000000</td>\n",
              "      <td>0.000000</td>\n",
              "      <td>0.000000</td>\n",
              "      <td>0.000000</td>\n",
              "      <td>4.042322e-07</td>\n",
              "      <td>1.655650e-07</td>\n",
              "      <td>-1</td>\n",
              "      <td>0</td>\n",
              "    </tr>\n",
              "    <tr>\n",
              "      <th>49999</th>\n",
              "      <td>410159</td>\n",
              "      <td>1687891</td>\n",
              "      <td>0</td>\n",
              "      <td>0.000000</td>\n",
              "      <td>0.000000</td>\n",
              "      <td>0.000000</td>\n",
              "      <td>0.000000</td>\n",
              "      <td>2.132984e-07</td>\n",
              "      <td>2.610319e-07</td>\n",
              "      <td>-1</td>\n",
              "      <td>0</td>\n",
              "    </tr>\n",
              "    <tr>\n",
              "      <th>50000</th>\n",
              "      <td>931310</td>\n",
              "      <td>954206</td>\n",
              "      <td>0</td>\n",
              "      <td>0.000000</td>\n",
              "      <td>0.000000</td>\n",
              "      <td>0.000000</td>\n",
              "      <td>0.000000</td>\n",
              "      <td>2.402762e-07</td>\n",
              "      <td>4.232365e-06</td>\n",
              "      <td>-1</td>\n",
              "      <td>0</td>\n",
              "    </tr>\n",
              "    <tr>\n",
              "      <th>50001</th>\n",
              "      <td>1253866</td>\n",
              "      <td>281538</td>\n",
              "      <td>0</td>\n",
              "      <td>0.000000</td>\n",
              "      <td>0.000000</td>\n",
              "      <td>0.000000</td>\n",
              "      <td>0.000000</td>\n",
              "      <td>1.655650e-07</td>\n",
              "      <td>6.878013e-07</td>\n",
              "      <td>-1</td>\n",
              "      <td>0</td>\n",
              "    </tr>\n",
              "  </tbody>\n",
              "</table>\n",
              "<p>50002 rows × 11 columns</p>\n",
              "</div>"
            ],
            "text/plain": [
              "       source_node  destination_node  ...  shortest_path  belongs_wcc\n",
              "0           848424            784690  ...             -1            1\n",
              "1          1110670            731849  ...             -1            0\n",
              "2           713880            167361  ...             11            1\n",
              "3           532612            296772  ...             -1            1\n",
              "4          1190268            217891  ...              3            1\n",
              "...            ...               ...  ...            ...          ...\n",
              "49997      1347215            113076  ...             -1            0\n",
              "49998      1409037           1708462  ...             -1            0\n",
              "49999       410159           1687891  ...             -1            0\n",
              "50000       931310            954206  ...             -1            0\n",
              "50001      1253866            281538  ...             -1            0\n",
              "\n",
              "[50002 rows x 11 columns]"
            ]
          },
          "metadata": {
            "tags": []
          },
          "execution_count": 35
        }
      ]
    },
    {
      "cell_type": "code",
      "metadata": {
        "id": "Qs24JsZvuxaW"
      },
      "source": [
        "#adar index\n",
        " \n",
        "\n",
        "def calculate_adar(a,b):\n",
        "  sum=0\n",
        "  try:\n",
        "    n=list(set(train_graph.successors(a)).intersection(set(train_graph.successors(b))))\n",
        "    if len(n)!=0:\n",
        "      for i in n:\n",
        "        sum+=(1/np.log10(len(list(train_graph.predecessors(i)))))\n",
        "      return sum\n",
        "    else:\n",
        "      return 0\n",
        "  except:\n",
        "    return 0\n",
        "\n",
        "def calculate_adar_test(a,b):\n",
        "  sum=0\n",
        "  try:\n",
        "    n=list(set(test_graph.successors(a)).intersection(set(test_graph.successors(b))))\n",
        "    if len(n)!=0:\n",
        "      for i in n:\n",
        "        sum+=(1/np.log10(len(list(test_graph.predecessors(i)))))\n",
        "      return sum\n",
        "    else:\n",
        "      return 0\n",
        "  except:\n",
        "    return 0"
      ],
      "execution_count": null,
      "outputs": []
    },
    {
      "cell_type": "code",
      "metadata": {
        "id": "Y-W6X6Qazore"
      },
      "source": [
        "df_final_train['adar_score']=df_final_train.apply(lambda row: calculate_adar(row['source_node'],row['destination_node']),axis=1)"
      ],
      "execution_count": null,
      "outputs": []
    },
    {
      "cell_type": "code",
      "metadata": {
        "id": "01O8wda60A86"
      },
      "source": [
        "df_final_test['adar_score']=df_final_test.apply(lambda row: calculate_adar_test(row['source_node'],row['destination_node']),axis=1)"
      ],
      "execution_count": null,
      "outputs": []
    },
    {
      "cell_type": "code",
      "metadata": {
        "id": "Mof-egTQ0JPE"
      },
      "source": [
        "def follows_back(a,b):\n",
        "  if train_graph.has_edge(b,a):\n",
        "    return 1\n",
        "  else:\n",
        "    return 0\n",
        "\n",
        "def follows_back_test(a,b):\n",
        "  if test_graph.has_edge(b,a):\n",
        "    return 1\n",
        "  else:\n",
        "    return 0"
      ],
      "execution_count": null,
      "outputs": []
    },
    {
      "cell_type": "code",
      "metadata": {
        "id": "e2tHKuCm2udY"
      },
      "source": [
        "df_final_train['follows_back']=df_final_train.apply(lambda row: follows_back(row['source_node'],row['destination_node']),axis=1)\n",
        "df_final_test['follows_back']=df_final_test.apply(lambda row: follows_back_test(row['source_node'],row['destination_node']),axis=1)"
      ],
      "execution_count": null,
      "outputs": []
    },
    {
      "cell_type": "code",
      "metadata": {
        "id": "tsuiM3K39N-f"
      },
      "source": [
        "katz_train = nx.katz.katz_centrality(train_graph,alpha=0.005,beta=1)\n",
        "kartz_test=nx.katz.katz_centrality(test_graph,alpha=0.005,beta=1)\n",
        "\n",
        "mean_katz_train = float(sum(katz_train.values())) / len(katz_train)\n",
        "\n",
        "mean_katz_test = float(sum(kartz_test.values())) / len(kartz_test)"
      ],
      "execution_count": null,
      "outputs": []
    },
    {
      "cell_type": "code",
      "metadata": {
        "id": "nrN1wVR75gyX"
      },
      "source": [
        "#Katz centrality score for source and destination in Train and test\n",
        "    #if anything not there in train graph then adding mean katz score\n",
        "df_final_train['katz_s'] = df_final_train.source_node.apply(lambda x: katz_train.get(x,mean_katz_train))\n",
        "df_final_train['katz_d'] = df_final_train.destination_node.apply(lambda x: katz_train.get(x,mean_katz_train))\n",
        "\n",
        "df_final_test['katz_s'] = df_final_test.source_node.apply(lambda x: kartz_test.get(x,mean_katz_test))\n",
        "df_final_test['katz_d'] = df_final_test.destination_node.apply(lambda x: kartz_test.get(x,mean_katz_test))"
      ],
      "execution_count": null,
      "outputs": []
    },
    {
      "cell_type": "code",
      "metadata": {
        "id": "ZyWOWR0HH_oT"
      },
      "source": [
        "# hits_train = nx.hits(train_graph, max_iter=100, tol=1e-08, nstart=None, normalized=True)\n",
        "\n",
        "\n",
        "# hits_mean_train=float(sum(hits_train[0].values())) / len(hits_train[0])\n",
        "\n",
        "# hits_test = nx.hits(test_graph, max_iter=100, tol=1e-08, nstart=None, normalized=True)\n",
        "# hits_mean_test=float(sum(hits_test[0].values())) / len(hits_test[0])\n",
        "hits=pickle.load(open('/content/drive/My Drive/Facebook/data/fea_sample/hits.p','rb'))\n"
      ],
      "execution_count": null,
      "outputs": []
    },
    {
      "cell_type": "code",
      "metadata": {
        "id": "bvxpxGaLIcKF"
      },
      "source": [
        "#Hits algorithm score for source and destination in Train and test\n",
        "#if anything not there in train graph then adding 0\n",
        "df_final_train['hubs_s'] = df_final_train.source_node.apply(lambda x: hits[0].get(x,0))\n",
        "df_final_train['hubs_d'] = df_final_train.destination_node.apply(lambda x: hits[0].get(x,0))\n",
        "\n",
        "df_final_test['hubs_s'] = df_final_test.source_node.apply(lambda x: hits[0].get(x,0))\n",
        "df_final_test['hubs_d'] = df_final_test.destination_node.apply(lambda x: hits[0].get(x,0))\n",
        "#================================================================================\n",
        "\n",
        "#Hits algorithm score for source and destination in Train and Test\n",
        "#if anything not there in train graph then adding 0\n",
        "df_final_train['authorities_s'] = df_final_train.source_node.apply(lambda x: hits[1].get(x,0))\n",
        "df_final_train['authorities_d'] = df_final_train.destination_node.apply(lambda x: hits[1].get(x,0))\n",
        "\n",
        "df_final_test['authorities_s'] = df_final_test.source_node.apply(lambda x: hits[1].get(x,0))\n",
        "df_final_test['authorities_d'] = df_final_test.destination_node.apply(lambda x: hits[1].get(x,0))"
      ],
      "execution_count": null,
      "outputs": []
    },
    {
      "cell_type": "markdown",
      "metadata": {
        "id": "Ec_UXl22VzX7"
      },
      "source": [
        "**Calculating Weights and their related features**"
      ]
    },
    {
      "cell_type": "code",
      "metadata": {
        "colab": {
          "base_uri": "https://localhost:8080/",
          "height": 34
        },
        "id": "5n6M4LbbVyvd",
        "outputId": "d5ad4971-105b-4df9-ea67-ecffca721075"
      },
      "source": [
        "from tqdm import tqdm\n",
        "weight_in={}\n",
        "weight_out={}\n",
        "for i in tqdm(train_graph.nodes()):\n",
        "  s1=set(train_graph.predecessors(i))\n",
        "  w1=1/(np.sqrt(1+len(s1)))\n",
        "  weight_in[i]=w1\n",
        "\n",
        "  s2=set(train_graph.successors(i))\n",
        "  w2=1/(np.sqrt(1+len(s2)))\n",
        "  weight_out[i]=w2\n",
        "mean_weight_in=np.mean(list(weight_in.values()))\n",
        "mean_weight_out=np.mean(list(weight_out.values()))"
      ],
      "execution_count": null,
      "outputs": [
        {
          "output_type": "stream",
          "text": [
            "100%|██████████| 1780722/1780722 [00:17<00:00, 103532.49it/s]\n"
          ],
          "name": "stderr"
        }
      ]
    },
    {
      "cell_type": "code",
      "metadata": {
        "colab": {
          "base_uri": "https://localhost:8080/",
          "height": 34
        },
        "id": "Tm9ltWWIaM6R",
        "outputId": "cf3fde58-f382-48af-cf38-46a30ec8cd73"
      },
      "source": [
        "weight_in_test={}\n",
        "weight_out_test={}\n",
        "for i in tqdm(test_graph.nodes()):\n",
        "  s1=set(test_graph.predecessors(i))\n",
        "  w1=1/(np.sqrt(1+len(s1)))\n",
        "  weight_in_test[i]=w1\n",
        "\n",
        "  s2=set(test_graph.successors(i))\n",
        "  w2=1/(np.sqrt(1+len(s2)))\n",
        "  weight_out_test[i]=w2\n",
        "mean_weight_in_test=np.mean(list(weight_in_test.values()))\n",
        "mean_weight_out_test=np.mean(list(weight_out_test.values()))"
      ],
      "execution_count": null,
      "outputs": [
        {
          "output_type": "stream",
          "text": [
            "100%|██████████| 1144623/1144623 [00:09<00:00, 125011.68it/s]\n"
          ],
          "name": "stderr"
        }
      ]
    },
    {
      "cell_type": "code",
      "metadata": {
        "id": "EEF854UKXoxI"
      },
      "source": [
        "df_final_train['weight_in']=df_final_train.destination_node.apply(lambda x: weight_in.get(x,mean_weight_in))\n",
        "df_final_train['weight_out']=df_final_train.source_node.apply(lambda x : weight_out.get(x, mean_weight_out))\n",
        "df_final_test['weight_in']=df_final_test.destination_node.apply(lambda x: weight_in_test.get(x,mean_weight_in_test))\n",
        "df_final_test['weight_out']=df_final_test.source_node.apply(lambda x : weight_out_test.get(x, mean_weight_out_test))"
      ],
      "execution_count": null,
      "outputs": []
    },
    {
      "cell_type": "code",
      "metadata": {
        "id": "mFhAuf2Ca0EA"
      },
      "source": [
        "df_final_train['weight_f1']=df_final_train.weight_in+df_final_train.weight_out\n",
        "df_final_train['weight_f2']=df_final_train.weight_in*df_final_train.weight_out\n",
        "df_final_train['weight_f3']=2*df_final_train.weight_in+df_final_train.weight_out\n",
        "df_final_train['weight_f4']=df_final_train.weight_in+2*df_final_train.weight_out\n",
        "\n",
        "df_final_test['weight_f1']=df_final_test.weight_in+df_final_test.weight_out\n",
        "df_final_test['weight_f2']=df_final_test.weight_in*df_final_test.weight_out\n",
        "df_final_test['weight_f3']=2*df_final_test.weight_in+df_final_test.weight_out\n",
        "df_final_test['weight_f4']=df_final_test.weight_in+2*df_final_test.weight_out\n",
        "\n"
      ],
      "execution_count": null,
      "outputs": []
    },
    {
      "cell_type": "markdown",
      "metadata": {
        "id": "5FODU9AHglY6"
      },
      "source": [
        "Prefential_Attachment"
      ]
    },
    {
      "cell_type": "code",
      "metadata": {
        "id": "02D0yjSO6K1G"
      },
      "source": [
        "def features_train(dataframe):\n",
        "    #calculating no of followers followees for source and destination\n",
        "    #calculating intersection of followers and followees for source and destination\n",
        "    num_followers_s=[]\n",
        "    num_followees_s=[]\n",
        "    num_followers_d=[]\n",
        "    num_followees_d=[]\n",
        "     \n",
        "    for i,row in dataframe.iterrows():\n",
        "        try:\n",
        "            s1=set(train_graph.predecessors(row['source_node']))\n",
        "            s2=set(train_graph.successors(row['source_node']))\n",
        "        except:\n",
        "            s1 = set()\n",
        "            s2 = set()\n",
        "        try:\n",
        "            d1=set(train_graph.predecessors(row['destination_node']))\n",
        "            d2=set(train_graph.successors(row['destination_node']))\n",
        "        except:\n",
        "            d1 = set()\n",
        "            d2 = set()\n",
        "        num_followers_s.append(len(s1))\n",
        "        num_followees_s.append(len(s2))\n",
        "\n",
        "        num_followers_d.append(len(d1))\n",
        "        num_followees_d.append(len(d2))\n",
        "\n",
        "         \n",
        "    \n",
        "    return num_followers_s, num_followers_d, num_followees_s, num_followees_d \n",
        "\n",
        "\n",
        "df_final_train['num_followers_s'], df_final_train['num_followers_d'],df_final_train['num_followees_s'], df_final_train['num_followees_d']= features_train(df_final_train)\n",
        "    "
      ],
      "execution_count": null,
      "outputs": []
    },
    {
      "cell_type": "code",
      "metadata": {
        "id": "8rCzuuQr8M2v"
      },
      "source": [
        "def features_test(dataframe):\n",
        "    #calculating no of followers followees for source and destination\n",
        "    #calculating intersection of followers and followees for source and destination\n",
        "    num_followers_s=[]\n",
        "    num_followees_s=[]\n",
        "    num_followers_d=[]\n",
        "    num_followees_d=[]\n",
        "     \n",
        "    for i,row in dataframe.iterrows():\n",
        "        try:\n",
        "            s1=set(test_graph.predecessors(row['source_node']))\n",
        "            s2=set(test_graph.successors(row['source_node']))\n",
        "        except:\n",
        "            s1 = set()\n",
        "            s2 = set()\n",
        "        try:\n",
        "            d1=set(test_graph.predecessors(row['destination_node']))\n",
        "            d2=set(test_graph.successors(row['destination_node']))\n",
        "        except:\n",
        "            d1 = set()\n",
        "            d2 = set()\n",
        "        num_followers_s.append(len(s1))\n",
        "        num_followees_s.append(len(s2))\n",
        "\n",
        "        num_followers_d.append(len(d1))\n",
        "        num_followees_d.append(len(d2))\n",
        "\n",
        "         \n",
        "    \n",
        "    return num_followers_s, num_followers_d, num_followees_s, num_followees_d "
      ],
      "execution_count": null,
      "outputs": []
    },
    {
      "cell_type": "code",
      "metadata": {
        "id": "Or8sBvWc77xa"
      },
      "source": [
        " df_final_test['num_followers_s'], df_final_test['num_followers_d'],df_final_test['num_followees_s'], df_final_test['num_followees_d']= features_test(df_final_test)\n",
        "    \n",
        "    "
      ],
      "execution_count": null,
      "outputs": []
    },
    {
      "cell_type": "code",
      "metadata": {
        "id": "qiLwqpH3-V0s"
      },
      "source": [
        "x=np.array(df_final_train['num_followers_s'])\n",
        "y=np.array(df_final_train['num_followers_d'])\n",
        "pref_followers=[]\n",
        "for i in range(len(x)):\n",
        "  pref_followers.append(x[i]*y[i])\n",
        "df_final_train['pref_followers']=pref_followers"
      ],
      "execution_count": null,
      "outputs": []
    },
    {
      "cell_type": "code",
      "metadata": {
        "id": "ek2setlY_iYH"
      },
      "source": [
        "x=np.array(df_final_test['num_followers_s'])\n",
        "y=np.array(df_final_test['num_followers_d'])\n",
        "pref_followers=[]\n",
        "for i in range(len(x)):\n",
        "  pref_followers.append(x[i]*y[i])\n",
        "df_final_test['pref_followers']=pref_followers"
      ],
      "execution_count": null,
      "outputs": []
    },
    {
      "cell_type": "code",
      "metadata": {
        "id": "rpj4Q-20Dv0e"
      },
      "source": [
        "x=np.array(df_final_train['num_followees_s'])\n",
        "y=np.array(df_final_train['num_followees_d'])\n",
        "pref_followees=[]\n",
        "for i in range(len(x)):\n",
        "  pref_followees.append(x[i]*y[i])\n",
        "df_final_train['pref_followees']=pref_followees"
      ],
      "execution_count": null,
      "outputs": []
    },
    {
      "cell_type": "code",
      "metadata": {
        "id": "E9xPEnobBDIa"
      },
      "source": [
        "x=np.array(df_final_test['num_followees_s'])\n",
        "y=np.array(df_final_test['num_followees_d'])\n",
        "pref_followees=[]\n",
        "for i in range(len(x)):\n",
        "  pref_followees.append(x[i]*y[i])\n",
        "df_final_test['pref_followees']=pref_followees"
      ],
      "execution_count": null,
      "outputs": []
    },
    {
      "cell_type": "code",
      "metadata": {
        "colab": {
          "base_uri": "https://localhost:8080/",
          "height": 590
        },
        "id": "YaUyBaubD7Wq",
        "outputId": "ab1affd6-d961-4e68-aaf7-b5eb8adfe9d5"
      },
      "source": [
        "df_final_test"
      ],
      "execution_count": null,
      "outputs": [
        {
          "output_type": "execute_result",
          "data": {
            "text/html": [
              "<div>\n",
              "<style scoped>\n",
              "    .dataframe tbody tr th:only-of-type {\n",
              "        vertical-align: middle;\n",
              "    }\n",
              "\n",
              "    .dataframe tbody tr th {\n",
              "        vertical-align: top;\n",
              "    }\n",
              "\n",
              "    .dataframe thead th {\n",
              "        text-align: right;\n",
              "    }\n",
              "</style>\n",
              "<table border=\"1\" class=\"dataframe\">\n",
              "  <thead>\n",
              "    <tr style=\"text-align: right;\">\n",
              "      <th></th>\n",
              "      <th>source_node</th>\n",
              "      <th>destination_node</th>\n",
              "      <th>indicator_link</th>\n",
              "      <th>jaccard_followers</th>\n",
              "      <th>jaccard_followees</th>\n",
              "      <th>cos_followers</th>\n",
              "      <th>cos_followee</th>\n",
              "      <th>page_rank_s</th>\n",
              "      <th>page_rank_d</th>\n",
              "      <th>shortest_path</th>\n",
              "      <th>belongs_wcc</th>\n",
              "      <th>adar_score</th>\n",
              "      <th>follows_back</th>\n",
              "      <th>katz_s</th>\n",
              "      <th>katz_d</th>\n",
              "      <th>hubs_s</th>\n",
              "      <th>hubs_d</th>\n",
              "      <th>authorities_s</th>\n",
              "      <th>authorities_d</th>\n",
              "      <th>weight_in</th>\n",
              "      <th>weight_out</th>\n",
              "      <th>weight_f1</th>\n",
              "      <th>weight_f2</th>\n",
              "      <th>weight_f3</th>\n",
              "      <th>weight_f4</th>\n",
              "      <th>num_followers_s</th>\n",
              "      <th>num_followers_d</th>\n",
              "      <th>num_followees_s</th>\n",
              "      <th>num_followees_d</th>\n",
              "      <th>pref_followers</th>\n",
              "      <th>pref_followees</th>\n",
              "    </tr>\n",
              "  </thead>\n",
              "  <tbody>\n",
              "    <tr>\n",
              "      <th>0</th>\n",
              "      <td>848424</td>\n",
              "      <td>784690</td>\n",
              "      <td>1</td>\n",
              "      <td>0.052632</td>\n",
              "      <td>0.000000</td>\n",
              "      <td>0.029161</td>\n",
              "      <td>0.000000</td>\n",
              "      <td>6.557971e-07</td>\n",
              "      <td>1.559547e-06</td>\n",
              "      <td>-1</td>\n",
              "      <td>1</td>\n",
              "      <td>0.0</td>\n",
              "      <td>0</td>\n",
              "      <td>0.000941</td>\n",
              "      <td>0.000932</td>\n",
              "      <td>3.243237e-16</td>\n",
              "      <td>1.745627e-16</td>\n",
              "      <td>2.969838e-15</td>\n",
              "      <td>9.269213e-14</td>\n",
              "      <td>0.707107</td>\n",
              "      <td>0.577350</td>\n",
              "      <td>1.284457</td>\n",
              "      <td>0.408248</td>\n",
              "      <td>1.991564</td>\n",
              "      <td>1.861807</td>\n",
              "      <td>3</td>\n",
              "      <td>1</td>\n",
              "      <td>2</td>\n",
              "      <td>1</td>\n",
              "      <td>3</td>\n",
              "      <td>2</td>\n",
              "    </tr>\n",
              "    <tr>\n",
              "      <th>1</th>\n",
              "      <td>1110670</td>\n",
              "      <td>731849</td>\n",
              "      <td>1</td>\n",
              "      <td>0.000000</td>\n",
              "      <td>0.000000</td>\n",
              "      <td>0.000000</td>\n",
              "      <td>0.000000</td>\n",
              "      <td>3.189939e-07</td>\n",
              "      <td>1.429444e-06</td>\n",
              "      <td>-1</td>\n",
              "      <td>0</td>\n",
              "      <td>0.0</td>\n",
              "      <td>0</td>\n",
              "      <td>0.000932</td>\n",
              "      <td>0.000936</td>\n",
              "      <td>5.479747e-22</td>\n",
              "      <td>1.529837e-15</td>\n",
              "      <td>1.075927e-17</td>\n",
              "      <td>1.986618e-16</td>\n",
              "      <td>0.577350</td>\n",
              "      <td>1.000000</td>\n",
              "      <td>1.577350</td>\n",
              "      <td>0.577350</td>\n",
              "      <td>2.154701</td>\n",
              "      <td>2.577350</td>\n",
              "      <td>1</td>\n",
              "      <td>2</td>\n",
              "      <td>0</td>\n",
              "      <td>5</td>\n",
              "      <td>2</td>\n",
              "      <td>0</td>\n",
              "    </tr>\n",
              "    <tr>\n",
              "      <th>2</th>\n",
              "      <td>713880</td>\n",
              "      <td>167361</td>\n",
              "      <td>1</td>\n",
              "      <td>0.000000</td>\n",
              "      <td>0.000000</td>\n",
              "      <td>0.000000</td>\n",
              "      <td>0.000000</td>\n",
              "      <td>9.345818e-07</td>\n",
              "      <td>1.154745e-06</td>\n",
              "      <td>11</td>\n",
              "      <td>1</td>\n",
              "      <td>0.0</td>\n",
              "      <td>0</td>\n",
              "      <td>0.000932</td>\n",
              "      <td>0.000960</td>\n",
              "      <td>6.081399e-14</td>\n",
              "      <td>3.027039e-14</td>\n",
              "      <td>2.033050e-14</td>\n",
              "      <td>2.845418e-13</td>\n",
              "      <td>0.353553</td>\n",
              "      <td>0.377964</td>\n",
              "      <td>0.731518</td>\n",
              "      <td>0.133631</td>\n",
              "      <td>1.085071</td>\n",
              "      <td>1.109482</td>\n",
              "      <td>1</td>\n",
              "      <td>7</td>\n",
              "      <td>6</td>\n",
              "      <td>10</td>\n",
              "      <td>7</td>\n",
              "      <td>60</td>\n",
              "    </tr>\n",
              "    <tr>\n",
              "      <th>3</th>\n",
              "      <td>532612</td>\n",
              "      <td>296772</td>\n",
              "      <td>1</td>\n",
              "      <td>0.000000</td>\n",
              "      <td>0.000000</td>\n",
              "      <td>0.000000</td>\n",
              "      <td>0.000000</td>\n",
              "      <td>1.167967e-06</td>\n",
              "      <td>4.572694e-07</td>\n",
              "      <td>-1</td>\n",
              "      <td>1</td>\n",
              "      <td>0.0</td>\n",
              "      <td>0</td>\n",
              "      <td>0.000932</td>\n",
              "      <td>0.000936</td>\n",
              "      <td>9.656976e-19</td>\n",
              "      <td>3.845518e-20</td>\n",
              "      <td>5.357631e-18</td>\n",
              "      <td>4.060827e-18</td>\n",
              "      <td>0.577350</td>\n",
              "      <td>1.000000</td>\n",
              "      <td>1.577350</td>\n",
              "      <td>0.577350</td>\n",
              "      <td>2.154701</td>\n",
              "      <td>2.577350</td>\n",
              "      <td>1</td>\n",
              "      <td>2</td>\n",
              "      <td>0</td>\n",
              "      <td>1</td>\n",
              "      <td>2</td>\n",
              "      <td>0</td>\n",
              "    </tr>\n",
              "    <tr>\n",
              "      <th>4</th>\n",
              "      <td>1190268</td>\n",
              "      <td>217891</td>\n",
              "      <td>1</td>\n",
              "      <td>0.062500</td>\n",
              "      <td>0.098039</td>\n",
              "      <td>0.030264</td>\n",
              "      <td>0.184428</td>\n",
              "      <td>1.239734e-06</td>\n",
              "      <td>2.329951e-06</td>\n",
              "      <td>3</td>\n",
              "      <td>1</td>\n",
              "      <td>0.0</td>\n",
              "      <td>0</td>\n",
              "      <td>0.000975</td>\n",
              "      <td>0.000951</td>\n",
              "      <td>1.203988e-14</td>\n",
              "      <td>2.299521e-14</td>\n",
              "      <td>9.035721e-15</td>\n",
              "      <td>2.479594e-15</td>\n",
              "      <td>0.408248</td>\n",
              "      <td>0.316228</td>\n",
              "      <td>0.724476</td>\n",
              "      <td>0.129099</td>\n",
              "      <td>1.132724</td>\n",
              "      <td>1.040704</td>\n",
              "      <td>10</td>\n",
              "      <td>5</td>\n",
              "      <td>9</td>\n",
              "      <td>9</td>\n",
              "      <td>50</td>\n",
              "      <td>81</td>\n",
              "    </tr>\n",
              "    <tr>\n",
              "      <th>...</th>\n",
              "      <td>...</td>\n",
              "      <td>...</td>\n",
              "      <td>...</td>\n",
              "      <td>...</td>\n",
              "      <td>...</td>\n",
              "      <td>...</td>\n",
              "      <td>...</td>\n",
              "      <td>...</td>\n",
              "      <td>...</td>\n",
              "      <td>...</td>\n",
              "      <td>...</td>\n",
              "      <td>...</td>\n",
              "      <td>...</td>\n",
              "      <td>...</td>\n",
              "      <td>...</td>\n",
              "      <td>...</td>\n",
              "      <td>...</td>\n",
              "      <td>...</td>\n",
              "      <td>...</td>\n",
              "      <td>...</td>\n",
              "      <td>...</td>\n",
              "      <td>...</td>\n",
              "      <td>...</td>\n",
              "      <td>...</td>\n",
              "      <td>...</td>\n",
              "      <td>...</td>\n",
              "      <td>...</td>\n",
              "      <td>...</td>\n",
              "      <td>...</td>\n",
              "      <td>...</td>\n",
              "      <td>...</td>\n",
              "    </tr>\n",
              "    <tr>\n",
              "      <th>49997</th>\n",
              "      <td>1347215</td>\n",
              "      <td>113076</td>\n",
              "      <td>0</td>\n",
              "      <td>0.000000</td>\n",
              "      <td>0.000000</td>\n",
              "      <td>0.000000</td>\n",
              "      <td>0.000000</td>\n",
              "      <td>5.615700e-07</td>\n",
              "      <td>5.615700e-07</td>\n",
              "      <td>-1</td>\n",
              "      <td>0</td>\n",
              "      <td>0.0</td>\n",
              "      <td>0</td>\n",
              "      <td>0.000932</td>\n",
              "      <td>0.000932</td>\n",
              "      <td>0.000000e+00</td>\n",
              "      <td>0.000000e+00</td>\n",
              "      <td>0.000000e+00</td>\n",
              "      <td>0.000000e+00</td>\n",
              "      <td>0.707107</td>\n",
              "      <td>1.000000</td>\n",
              "      <td>1.707107</td>\n",
              "      <td>0.707107</td>\n",
              "      <td>2.414214</td>\n",
              "      <td>2.707107</td>\n",
              "      <td>1</td>\n",
              "      <td>1</td>\n",
              "      <td>0</td>\n",
              "      <td>0</td>\n",
              "      <td>1</td>\n",
              "      <td>0</td>\n",
              "    </tr>\n",
              "    <tr>\n",
              "      <th>49998</th>\n",
              "      <td>1409037</td>\n",
              "      <td>1708462</td>\n",
              "      <td>0</td>\n",
              "      <td>0.000000</td>\n",
              "      <td>0.000000</td>\n",
              "      <td>0.000000</td>\n",
              "      <td>0.000000</td>\n",
              "      <td>4.042322e-07</td>\n",
              "      <td>1.655650e-07</td>\n",
              "      <td>-1</td>\n",
              "      <td>0</td>\n",
              "      <td>0.0</td>\n",
              "      <td>0</td>\n",
              "      <td>0.000935</td>\n",
              "      <td>0.000935</td>\n",
              "      <td>0.000000e+00</td>\n",
              "      <td>1.950488e-14</td>\n",
              "      <td>1.066565e-22</td>\n",
              "      <td>0.000000e+00</td>\n",
              "      <td>0.717025</td>\n",
              "      <td>0.721867</td>\n",
              "      <td>1.438892</td>\n",
              "      <td>0.517597</td>\n",
              "      <td>2.155917</td>\n",
              "      <td>2.160759</td>\n",
              "      <td>0</td>\n",
              "      <td>0</td>\n",
              "      <td>0</td>\n",
              "      <td>0</td>\n",
              "      <td>0</td>\n",
              "      <td>0</td>\n",
              "    </tr>\n",
              "    <tr>\n",
              "      <th>49999</th>\n",
              "      <td>410159</td>\n",
              "      <td>1687891</td>\n",
              "      <td>0</td>\n",
              "      <td>0.000000</td>\n",
              "      <td>0.000000</td>\n",
              "      <td>0.000000</td>\n",
              "      <td>0.000000</td>\n",
              "      <td>2.132984e-07</td>\n",
              "      <td>2.610319e-07</td>\n",
              "      <td>-1</td>\n",
              "      <td>0</td>\n",
              "      <td>0.0</td>\n",
              "      <td>0</td>\n",
              "      <td>0.000935</td>\n",
              "      <td>0.000927</td>\n",
              "      <td>0.000000e+00</td>\n",
              "      <td>0.000000e+00</td>\n",
              "      <td>4.952612e-18</td>\n",
              "      <td>4.446591e-322</td>\n",
              "      <td>1.000000</td>\n",
              "      <td>0.721867</td>\n",
              "      <td>1.721867</td>\n",
              "      <td>0.721867</td>\n",
              "      <td>2.721867</td>\n",
              "      <td>2.443733</td>\n",
              "      <td>0</td>\n",
              "      <td>0</td>\n",
              "      <td>0</td>\n",
              "      <td>1</td>\n",
              "      <td>0</td>\n",
              "      <td>0</td>\n",
              "    </tr>\n",
              "    <tr>\n",
              "      <th>50000</th>\n",
              "      <td>931310</td>\n",
              "      <td>954206</td>\n",
              "      <td>0</td>\n",
              "      <td>0.000000</td>\n",
              "      <td>0.000000</td>\n",
              "      <td>0.000000</td>\n",
              "      <td>0.000000</td>\n",
              "      <td>2.402762e-07</td>\n",
              "      <td>4.232365e-06</td>\n",
              "      <td>-1</td>\n",
              "      <td>0</td>\n",
              "      <td>0.0</td>\n",
              "      <td>0</td>\n",
              "      <td>0.000935</td>\n",
              "      <td>0.000951</td>\n",
              "      <td>2.007151e-15</td>\n",
              "      <td>1.081726e-13</td>\n",
              "      <td>6.263708e-17</td>\n",
              "      <td>3.638762e-14</td>\n",
              "      <td>0.408248</td>\n",
              "      <td>0.721867</td>\n",
              "      <td>1.130115</td>\n",
              "      <td>0.294701</td>\n",
              "      <td>1.538363</td>\n",
              "      <td>1.851982</td>\n",
              "      <td>0</td>\n",
              "      <td>5</td>\n",
              "      <td>0</td>\n",
              "      <td>10</td>\n",
              "      <td>0</td>\n",
              "      <td>0</td>\n",
              "    </tr>\n",
              "    <tr>\n",
              "      <th>50001</th>\n",
              "      <td>1253866</td>\n",
              "      <td>281538</td>\n",
              "      <td>0</td>\n",
              "      <td>0.000000</td>\n",
              "      <td>0.000000</td>\n",
              "      <td>0.000000</td>\n",
              "      <td>0.000000</td>\n",
              "      <td>1.655650e-07</td>\n",
              "      <td>6.878013e-07</td>\n",
              "      <td>-1</td>\n",
              "      <td>0</td>\n",
              "      <td>0.0</td>\n",
              "      <td>0</td>\n",
              "      <td>0.000935</td>\n",
              "      <td>0.000946</td>\n",
              "      <td>5.289734e-20</td>\n",
              "      <td>6.493614e-17</td>\n",
              "      <td>0.000000e+00</td>\n",
              "      <td>7.095782e-16</td>\n",
              "      <td>0.447214</td>\n",
              "      <td>0.721867</td>\n",
              "      <td>1.169080</td>\n",
              "      <td>0.322829</td>\n",
              "      <td>1.616294</td>\n",
              "      <td>1.890947</td>\n",
              "      <td>0</td>\n",
              "      <td>4</td>\n",
              "      <td>0</td>\n",
              "      <td>8</td>\n",
              "      <td>0</td>\n",
              "      <td>0</td>\n",
              "    </tr>\n",
              "  </tbody>\n",
              "</table>\n",
              "<p>50002 rows × 31 columns</p>\n",
              "</div>"
            ],
            "text/plain": [
              "       source_node  destination_node  ...  pref_followers  pref_followees\n",
              "0           848424            784690  ...               3               2\n",
              "1          1110670            731849  ...               2               0\n",
              "2           713880            167361  ...               7              60\n",
              "3           532612            296772  ...               2               0\n",
              "4          1190268            217891  ...              50              81\n",
              "...            ...               ...  ...             ...             ...\n",
              "49997      1347215            113076  ...               1               0\n",
              "49998      1409037           1708462  ...               0               0\n",
              "49999       410159           1687891  ...               0               0\n",
              "50000       931310            954206  ...               0               0\n",
              "50001      1253866            281538  ...               0               0\n",
              "\n",
              "[50002 rows x 31 columns]"
            ]
          },
          "metadata": {
            "tags": []
          },
          "execution_count": 56
        }
      ]
    },
    {
      "cell_type": "markdown",
      "metadata": {
        "id": "Sc1vyBfdmNnf"
      },
      "source": [
        "**Singular Value Decomposition Concept**"
      ]
    },
    {
      "cell_type": "code",
      "metadata": {
        "id": "ysO82FVVmSqH"
      },
      "source": [
        "from scipy.sparse.linalg import svds\n",
        "\n"
      ],
      "execution_count": null,
      "outputs": []
    },
    {
      "cell_type": "code",
      "metadata": {
        "id": "FaxV9F1Bmh3t"
      },
      "source": [
        "# for train data\n",
        "adj_matrix=nx.adjacency_matrix(train_graph,nodelist=sorted(train_graph.nodes())).asfptype()\n",
        "U, E, Vt=svds(adj_matrix,k=6)\n",
        " \n"
      ],
      "execution_count": null,
      "outputs": []
    },
    {
      "cell_type": "code",
      "metadata": {
        "id": "9PmGeLOqItbq"
      },
      "source": [
        " "
      ],
      "execution_count": null,
      "outputs": []
    },
    {
      "cell_type": "code",
      "metadata": {
        "id": "Y36RDFoU-Wlw"
      },
      "source": [
        "all_nodes=sorted(train_graph.nodes())\n",
        "node_idx_dict={value: index for index, value in enumerate(all_nodes)}"
      ],
      "execution_count": null,
      "outputs": []
    },
    {
      "cell_type": "code",
      "metadata": {
        "id": "rLDUg9ge-lsg"
      },
      "source": [
        "def SVD(point, Matrix):\n",
        "  try:\n",
        "    index=node_idx_dict[point]\n",
        "    return Matrix[index]\n",
        "  except:\n",
        "    return [0,0,0,0,0,0]"
      ],
      "execution_count": null,
      "outputs": []
    },
    {
      "cell_type": "code",
      "metadata": {
        "id": "LECSjQIQGIMG"
      },
      "source": [
        "from pandas import Series\n",
        "df_final_train[['svd_s_u1','svd_s_u2','svd_s_u3','svd_s_u4','svd_s_u5','svd_s_u6']]=\\\n",
        "df_final_train.source_node.apply(lambda x : SVD(x, U)).apply(pd.Series)\n",
        "\n",
        "df_final_train[['svd_s_v1','svd_s_v2','svd_s_v3','svd_s_v4','svd_s_v5','svd_s_v6']]=\\\n",
        "df_final_train.source_node.apply(lambda x : SVD(x, Vt.T)).apply(pd.Series)\n",
        "\n",
        "df_final_train[['svd_d_u1','svd_d_u2','svd_d_u3','svd_d_u4','svd_d_u5','svd_d_u6']]=\\\n",
        "df_final_train.source_node.apply(lambda x : SVD(x, U)).apply(pd.Series)\n",
        "\n",
        "df_final_train[['svd_d_v1','svd_d_v2','svd_d_v3','svd_d_v4','svd_d_v5','svd_d_v6']]=\\\n",
        "df_final_train.source_node.apply(lambda x : SVD(x, Vt.T)).apply(pd.Series)\n",
        "\n",
        "\n",
        "\n"
      ],
      "execution_count": null,
      "outputs": []
    },
    {
      "cell_type": "code",
      "metadata": {
        "id": "EnJRQBjHN_Ul"
      },
      "source": [
        "x1,x2,x3,x4,x5,x6,x7,x8,x9,x10,x11,x12=df_final_train['svd_s_u1'],df_final_train['svd_s_u2'],df_final_train['svd_s_u3'],df_final_train['svd_s_u4'],df_final_train['svd_s_u5'],df_final_train['svd_s_u6'],df_final_train['svd_s_v1'],df_final_train['svd_s_v2'],df_final_train['svd_s_v3'],df_final_train['svd_s_v4'],df_final_train['svd_s_v5'],df_final_train['svd_s_v6']\n",
        "\n",
        "\n",
        "y1,y2,y3,y4,y5,y6,y7,y8,y9,y10,y11,y12=df_final_train['svd_d_u1'],df_final_train['svd_d_u2'],df_final_train['svd_d_u3'],df_final_train['svd_d_u4'],df_final_train['svd_d_u5'],df_final_train['svd_s_u6'],\\\n",
        "df_final_train['svd_d_v1'],df_final_train['svd_d_v2'],df_final_train['svd_d_v3'],df_final_train['svd_d_v4'],df_final_train['svd_d_v5'],df_final_train['svd_d_v6']"
      ],
      "execution_count": null,
      "outputs": []
    },
    {
      "cell_type": "code",
      "metadata": {
        "id": "vQdn9SDyG7Y8"
      },
      "source": [
        "result=[]\n",
        "for i in range(len(x1)):\n",
        "  \n",
        "  X=[]\n",
        "  Y=[]\n",
        "  X.append(x1[i])\n",
        "  X.append(x2[i])\n",
        "  X.append(x3[i])\n",
        "  X.append(x4[i])\n",
        "  X.append(x5[i])\n",
        "  X.append(x6[i])\n",
        "  X.append(x7[i])\n",
        "  X.append(x8[i])\n",
        "  X.append(x9[i])\n",
        "  X.append(x10[i])\n",
        "  X.append(x11[i])\n",
        "  X.append(x12[i])\n",
        "\n",
        "  Y.append(y1[i])\n",
        "  Y.append(y2[i])\n",
        "  Y.append(y3[i])\n",
        "  Y.append(y4[i])\n",
        "  Y.append(y5[i])\n",
        "  Y.append(y6[i])\n",
        "  Y.append(y7[i])\n",
        "  Y.append(y8[i])\n",
        "  Y.append(y9[i])\n",
        "  Y.append(y10[i])\n",
        "  Y.append(y11[i])\n",
        "  Y.append(y12[i])\n",
        "  temp=np.dot(X,Y)\n",
        "  result.append(temp)\n",
        "\n",
        "df_final_train['svd_dot']=result\n"
      ],
      "execution_count": null,
      "outputs": []
    },
    {
      "cell_type": "code",
      "metadata": {
        "id": "BaEd3CUpSvOK"
      },
      "source": [
        "#for_test data\n",
        "adj_matrix=nx.adjacency_matrix(test_graph,nodelist=sorted(test_graph.nodes())).asfptype()\n",
        "U, E, Vt=svds(adj_matrix,k=6)\n",
        "all_nodes=sorted(test_graph.nodes())\n",
        "node_idx_dict={value: index for index, value in enumerate(all_nodes)}\n",
        "\n",
        "def SVD(point, Matrix):\n",
        "  try:\n",
        "    index=node_idx_dict[point]\n",
        "    return Matrix[index]\n",
        "  except:\n",
        "    return [0,0,0,0,0,0]\n",
        "\n",
        " "
      ],
      "execution_count": null,
      "outputs": []
    },
    {
      "cell_type": "code",
      "metadata": {
        "id": "MOqK4JbXTEmz"
      },
      "source": [
        "df_final_test[['svd_s_u1','svd_s_u2','svd_s_u3','svd_s_u4','svd_s_u5','svd_s_u6']]=\\\n",
        "df_final_test.source_node.apply(lambda x : SVD(x, U)).apply(pd.Series)\n",
        "\n",
        "df_final_test[['svd_s_v1','svd_s_v2','svd_s_v3','svd_s_v4','svd_s_v5','svd_s_v6']]=\\\n",
        "df_final_test.source_node.apply(lambda x : SVD(x, Vt.T)).apply(pd.Series)\n",
        "\n",
        "df_final_test[['svd_d_u1','svd_d_u2','svd_d_u3','svd_d_u4','svd_d_u5','svd_d_u6']]=\\\n",
        "df_final_test.source_node.apply(lambda x : SVD(x, U)).apply(pd.Series)\n",
        "\n",
        "df_final_test[['svd_d_v1','svd_d_v2','svd_d_v3','svd_d_v4','svd_d_v5','svd_d_v6']]=\\\n",
        "df_final_test.source_node.apply(lambda x : SVD(x, Vt.T)).apply(pd.Series)"
      ],
      "execution_count": null,
      "outputs": []
    },
    {
      "cell_type": "code",
      "metadata": {
        "id": "Js2Uf-pZTUYX"
      },
      "source": [
        "x1,x2,x3,x4,x5,x6,x7,x8,x9,x10,x11,x12=df_final_test['svd_s_u1'],df_final_test['svd_s_u2'],df_final_test['svd_s_u3'],df_final_test['svd_s_u4'],df_final_test['svd_s_u5'],df_final_test['svd_s_u6'],df_final_test['svd_s_v1'],df_final_test['svd_s_v2'],df_final_test['svd_s_v3'],df_final_test['svd_s_v4'],df_final_test['svd_s_v5'],df_final_test['svd_s_v6']\n",
        "\n",
        "\n",
        "y1,y2,y3,y4,y5,y6,y7,y8,y9,y10,y11,y12=df_final_test['svd_d_u1'],df_final_test['svd_d_u2'],df_final_test['svd_d_u3'],df_final_test['svd_d_u4'],df_final_test['svd_d_u5'],df_final_test['svd_s_u6'],\\\n",
        "df_final_test['svd_d_v1'],df_final_test['svd_d_v2'],df_final_test['svd_d_v3'],df_final_test['svd_d_v4'],df_final_test['svd_d_v5'],df_final_test['svd_d_v6']"
      ],
      "execution_count": null,
      "outputs": []
    },
    {
      "cell_type": "code",
      "metadata": {
        "id": "nRChKk5iTr4e"
      },
      "source": [
        "result=[]\n",
        "for i in range(len(x1)):\n",
        "  \n",
        "  X=[]\n",
        "  Y=[]\n",
        "  X.append(x1[i])\n",
        "  X.append(x2[i])\n",
        "  X.append(x3[i])\n",
        "  X.append(x4[i])\n",
        "  X.append(x5[i])\n",
        "  X.append(x6[i])\n",
        "  X.append(x7[i])\n",
        "  X.append(x8[i])\n",
        "  X.append(x9[i])\n",
        "  X.append(x10[i])\n",
        "  X.append(x11[i])\n",
        "  X.append(x12[i])\n",
        "\n",
        "  Y.append(y1[i])\n",
        "  Y.append(y2[i])\n",
        "  Y.append(y3[i])\n",
        "  Y.append(y4[i])\n",
        "  Y.append(y5[i])\n",
        "  Y.append(y6[i])\n",
        "  Y.append(y7[i])\n",
        "  Y.append(y8[i])\n",
        "  Y.append(y9[i])\n",
        "  Y.append(y10[i])\n",
        "  Y.append(y11[i])\n",
        "  Y.append(y12[i])\n",
        "  temp=np.dot(X,Y)\n",
        "  result.append(temp)\n",
        "\n",
        "df_final_test['svd_dot']=result"
      ],
      "execution_count": null,
      "outputs": []
    },
    {
      "cell_type": "code",
      "metadata": {
        "colab": {
          "base_uri": "https://localhost:8080/",
          "height": 235
        },
        "id": "Z_304-_xTyn0",
        "outputId": "255d20c1-1dbe-4365-bf1c-ae0f139deae9"
      },
      "source": [
        "df_final_train.columns \n"
      ],
      "execution_count": null,
      "outputs": [
        {
          "output_type": "execute_result",
          "data": {
            "text/plain": [
              "Index(['source_node', 'destination_node', 'indicator_link',\n",
              "       'jaccard_followers', 'jaccard_followees', 'cos_followers',\n",
              "       'cos_followee', 'page_rank_s', 'page_rank_d', 'shortest_path',\n",
              "       'belongs_wcc', 'adar_score', 'follows_back', 'katz_s', 'katz_d',\n",
              "       'hubs_s', 'hubs_d', 'authorities_s', 'authorities_d', 'weight_in',\n",
              "       'weight_out', 'weight_f1', 'weight_f2', 'weight_f3', 'weight_f4',\n",
              "       'num_followers_s', 'num_followers_d', 'num_followees_s',\n",
              "       'num_followees_d', 'pref_followers', 'pref_followees', 'svd_s_u1',\n",
              "       'svd_s_u2', 'svd_s_u3', 'svd_s_u4', 'svd_s_u5', 'svd_s_u6', 'svd_s_v1',\n",
              "       'svd_s_v2', 'svd_s_v3', 'svd_s_v4', 'svd_s_v5', 'svd_s_v6', 'svd_d_u1',\n",
              "       'svd_d_u2', 'svd_d_u3', 'svd_d_u4', 'svd_d_u5', 'svd_d_u6', 'svd_d_v1',\n",
              "       'svd_d_v2', 'svd_d_v3', 'svd_d_v4', 'svd_d_v5', 'svd_d_v6', 'svd_dot'],\n",
              "      dtype='object')"
            ]
          },
          "metadata": {
            "tags": []
          },
          "execution_count": 68
        }
      ]
    },
    {
      "cell_type": "code",
      "metadata": {
        "colab": {
          "base_uri": "https://localhost:8080/",
          "height": 235
        },
        "id": "ZW3yWVyBUgYc",
        "outputId": "362f383a-ea40-422e-fa46-5f36fb9430c4"
      },
      "source": [
        " df_final_test.columns"
      ],
      "execution_count": null,
      "outputs": [
        {
          "output_type": "execute_result",
          "data": {
            "text/plain": [
              "Index(['source_node', 'destination_node', 'indicator_link',\n",
              "       'jaccard_followers', 'jaccard_followees', 'cos_followers',\n",
              "       'cos_followee', 'page_rank_s', 'page_rank_d', 'shortest_path',\n",
              "       'belongs_wcc', 'adar_score', 'follows_back', 'katz_s', 'katz_d',\n",
              "       'hubs_s', 'hubs_d', 'authorities_s', 'authorities_d', 'weight_in',\n",
              "       'weight_out', 'weight_f1', 'weight_f2', 'weight_f3', 'weight_f4',\n",
              "       'num_followers_s', 'num_followers_d', 'num_followees_s',\n",
              "       'num_followees_d', 'pref_followers', 'pref_followees', 'svd_s_u1',\n",
              "       'svd_s_u2', 'svd_s_u3', 'svd_s_u4', 'svd_s_u5', 'svd_s_u6', 'svd_s_v1',\n",
              "       'svd_s_v2', 'svd_s_v3', 'svd_s_v4', 'svd_s_v5', 'svd_s_v6', 'svd_d_u1',\n",
              "       'svd_d_u2', 'svd_d_u3', 'svd_d_u4', 'svd_d_u5', 'svd_d_u6', 'svd_d_v1',\n",
              "       'svd_d_v2', 'svd_d_v3', 'svd_d_v4', 'svd_d_v5', 'svd_d_v6', 'svd_dot'],\n",
              "      dtype='object')"
            ]
          },
          "metadata": {
            "tags": []
          },
          "execution_count": 69
        }
      ]
    },
    {
      "cell_type": "code",
      "metadata": {
        "id": "DlFtyHKVVxtX"
      },
      "source": [
        "y_train=df_final_train['indicator_link']\n",
        "y_test=df_final_test['indicator_link']"
      ],
      "execution_count": null,
      "outputs": []
    },
    {
      "cell_type": "code",
      "metadata": {
        "id": "RZO_9JFcWEEG"
      },
      "source": [
        "df_final_train=df_final_train.drop(['indicator_link','source_node','destination_node'],axis=1)\n",
        "df_final_test=df_final_test.drop(['indicator_link','source_node','destination_node'],axis=1)\n",
        " "
      ],
      "execution_count": null,
      "outputs": []
    },
    {
      "cell_type": "code",
      "metadata": {
        "colab": {
          "base_uri": "https://localhost:8080/",
          "height": 50
        },
        "id": "izue1TR1XGOI",
        "outputId": "edba5c52-4aec-4f92-c418-608c3003587a"
      },
      "source": [
        "print(\"the shape of train data is:\", df_final_train.shape)\n",
        "print(\"the shape of test data is:\", df_final_test.shape)"
      ],
      "execution_count": null,
      "outputs": [
        {
          "output_type": "stream",
          "text": [
            "the shape of train data is: (100001, 53)\n",
            "the shape of test data is: (50002, 53)\n"
          ],
          "name": "stdout"
        }
      ]
    },
    {
      "cell_type": "markdown",
      "metadata": {
        "id": "mcHoFOfgadrj"
      },
      "source": [
        "**Applying a Default Model and checking f1 scores**"
      ]
    },
    {
      "cell_type": "code",
      "metadata": {
        "colab": {
          "base_uri": "https://localhost:8080/",
          "height": 50
        },
        "id": "W0cMI6hYadRD",
        "outputId": "555bdec6-9c0d-4eaf-88b7-a5d25dc55cf9"
      },
      "source": [
        "from sklearn.ensemble import RandomForestClassifier\n",
        "from sklearn.metrics import f1_score, roc_auc_score,roc_curve\n",
        "\n",
        "clf=RandomForestClassifier(n_estimators=100, criterion='gini', max_depth=None, min_samples_split=2, min_samples_leaf=1, min_weight_fraction_leaf=0.0, \\\n",
        "    max_features='auto', max_leaf_nodes=None, min_impurity_decrease=0.0, min_impurity_split=None, bootstrap=True, oob_score=False, n_jobs=-1, random_state=42, \\\n",
        "    verbose=0, warm_start=False, class_weight=None, ccp_alpha=0.0, max_samples=None)\n",
        "\n",
        "\n",
        "clf.fit(df_final_train,y_train)\n",
        "predicted_tr=clf.predict(df_final_train)\n",
        "score_tr=f1_score(y_train,predicted_tr)\n",
        "predicted_te=clf.predict(df_final_test)\n",
        "score_te=f1_score(y_test,predicted_te)\n",
        "\n",
        "print(\"f1 score for train data:\", score_tr)\n",
        "print(\"f1 score for test data:\",score_te)\n",
        "\n"
      ],
      "execution_count": null,
      "outputs": [
        {
          "output_type": "stream",
          "text": [
            "f1 score for train data: 0.9968985556704238\n",
            "f1 score for test data: 0.8307929320043883\n"
          ],
          "name": "stdout"
        }
      ]
    },
    {
      "cell_type": "markdown",
      "metadata": {
        "id": "fE2U-0gkcKCO"
      },
      "source": [
        "Applying RandomSearchCV() for Hyper Parameter tuning"
      ]
    },
    {
      "cell_type": "code",
      "metadata": {
        "colab": {
          "base_uri": "https://localhost:8080/",
          "height": 50
        },
        "id": "dAKU-s68cJqE",
        "outputId": "eb973523-0092-45eb-a44d-f72fdeb241c5"
      },
      "source": [
        "from sklearn.model_selection import RandomizedSearchCV\n",
        "clf=RandomForestClassifier(n_jobs=-1,random_state=42)\n",
        "import random\n",
        "\n",
        "params={\"n_estimators\":[35,40,100,150],\n",
        "        \"bootstrap\":[True,False],\n",
        "              \"max_depth\": [30,35,50,60,75],\n",
        "              \"min_samples_split\": [5,7,9,11,54],\n",
        "              \"min_samples_leaf\": [5,10,15,20,75]}\n",
        "tuning=RandomizedSearchCV(clf, params, n_jobs=-1, cv=4, scoring='f1',verbose=0,  random_state=42, return_train_score=True)\n",
        "tuning.fit(df_final_train,y_train)\n",
        "predicted_tr=tuning.predict(df_final_train)\n",
        "score_tr=f1_score(y_train,predicted_tr)\n",
        "predicted_te=tuning.predict(df_final_test)\n",
        "score_te=f1_score(y_test,predicted_te)\n",
        "\n",
        "print(\"f1 score for train data:\", score_tr)\n",
        "print(\"f1 score for test data:\",score_te)\n",
        "\n",
        "\n",
        "\n"
      ],
      "execution_count": null,
      "outputs": [
        {
          "output_type": "stream",
          "text": [
            "f1 score for train data: 0.9753728684143549\n",
            "f1 score for test data: 0.8218375876644077\n"
          ],
          "name": "stdout"
        }
      ]
    },
    {
      "cell_type": "code",
      "metadata": {
        "colab": {
          "base_uri": "https://localhost:8080/",
          "height": 252
        },
        "id": "Lx7FoUByfmjI",
        "outputId": "25c32a79-d292-4519-a823-850908d57dbf"
      },
      "source": [
        "print(\"following are the best parameters:\",tuning.best_estimator_)\n",
        "print(\"*\"*25)\n",
        "\n",
        "print(\"mean train score from CV:\",tuning.cv_results_['mean_train_score'])\n",
        "print(\"*\"*25)\n",
        "print(\"mean test score from CV: \",tuning.cv_results_['mean_test_score'])\n",
        " "
      ],
      "execution_count": null,
      "outputs": [
        {
          "output_type": "stream",
          "text": [
            "following are the best parameters: RandomForestClassifier(bootstrap=False, ccp_alpha=0.0, class_weight=None,\n",
            "                       criterion='gini', max_depth=50, max_features='auto',\n",
            "                       max_leaf_nodes=None, max_samples=None,\n",
            "                       min_impurity_decrease=0.0, min_impurity_split=None,\n",
            "                       min_samples_leaf=5, min_samples_split=5,\n",
            "                       min_weight_fraction_leaf=0.0, n_estimators=35, n_jobs=-1,\n",
            "                       oob_score=False, random_state=42, verbose=0,\n",
            "                       warm_start=False)\n",
            "*************************\n",
            "mean train score from CV: [0.9711949  0.9667097  0.9653227  0.96346678 0.9711949  0.96360935\n",
            " 0.97542743 0.9662109  0.97539461 0.96643287]\n",
            "*************************\n",
            "mean test score from CV:  [0.96376677 0.96248607 0.9617514  0.9608734  0.96376677 0.96101639\n",
            " 0.96397313 0.96198803 0.96358298 0.96219636]\n"
          ],
          "name": "stdout"
        }
      ]
    },
    {
      "cell_type": "markdown",
      "metadata": {
        "id": "EL-ApKFtifjd"
      },
      "source": [
        "Applying best params values in the classifier "
      ]
    },
    {
      "cell_type": "code",
      "metadata": {
        "colab": {
          "base_uri": "https://localhost:8080/",
          "height": 50
        },
        "id": "It_u9xTEifG1",
        "outputId": "a5950c2c-7704-498b-efba-f67b804eeba6"
      },
      "source": [
        "clf_final=RandomForestClassifier(bootstrap=True, ccp_alpha=0.0, class_weight=None,\n",
        "                       criterion='gini', max_depth=50, max_features='auto',max_leaf_nodes=None, max_samples=None,min_impurity_decrease=0.0, min_impurity_split=None,\n",
        "                       min_samples_leaf=5, min_samples_split=5,min_weight_fraction_leaf=0.0, n_estimators=35, n_jobs=-1,oob_score=False, random_state=42, verbose=0,warm_start=False)\n",
        "clf_final.fit(df_final_train,y_train)\n",
        "predicted_tr=clf_final.predict(df_final_train)\n",
        "score_tr=f1_score(y_train,predicted_tr)\n",
        "predicted_te=clf_final.predict(df_final_test)\n",
        "score_te=f1_score(y_test,predicted_te)\n",
        "\n",
        "print(\"f1 score for train data:\", score_tr)\n",
        "print(\"f1 score for test data:\",score_te)\n",
        "\n",
        "\n"
      ],
      "execution_count": null,
      "outputs": [
        {
          "output_type": "stream",
          "text": [
            "f1 score for train data: 0.971200799241536\n",
            "f1 score for test data: 0.8471000946248471\n"
          ],
          "name": "stdout"
        }
      ]
    },
    {
      "cell_type": "markdown",
      "metadata": {
        "id": "ziW4xqx20sac"
      },
      "source": [
        "Here test score has improved from 0.83 to 0.847 so hyperparameter tuning helped to some extent"
      ]
    },
    {
      "cell_type": "code",
      "metadata": {
        "colab": {
          "base_uri": "https://localhost:8080/",
          "height": 282
        },
        "id": "N0ZH-Kff_OBU",
        "outputId": "3c8151ee-902d-4d11-c446-c1e96a082eca"
      },
      "source": [
        "from sklearn.metrics import confusion_matrix\n",
        "import seaborn as sns\n",
        " \n",
        "cf_matrix=confusion_matrix(y_train, predicted_tr)\n",
        "sns.heatmap(cf_matrix, annot=True)"
      ],
      "execution_count": null,
      "outputs": [
        {
          "output_type": "execute_result",
          "data": {
            "text/plain": [
              "<matplotlib.axes._subplots.AxesSubplot at 0x7ff33c882978>"
            ]
          },
          "metadata": {
            "tags": []
          },
          "execution_count": 127
        },
        {
          "output_type": "display_data",
          "data": {
            "image/png": "[encoded data removed]",
            "text/plain": [
              "<Figure size 432x288 with 2 Axes>"
            ]
          },
          "metadata": {
            "tags": [],
            "needs_background": "light"
          }
        }
      ]
    },
    {
      "cell_type": "code",
      "metadata": {
        "colab": {
          "base_uri": "https://localhost:8080/",
          "height": 286
        },
        "id": "WZxmdBco_3as",
        "outputId": "9ca3b9b4-b66a-418f-adec-b2e85fcabf4c"
      },
      "source": [
        "cf_matrix=confusion_matrix(y_test, predicted_te)\n",
        "sns.heatmap(cf_matrix, annot=True)"
      ],
      "execution_count": null,
      "outputs": [
        {
          "output_type": "execute_result",
          "data": {
            "text/plain": [
              "<matplotlib.axes._subplots.AxesSubplot at 0x7ff33c9064e0>"
            ]
          },
          "metadata": {
            "tags": []
          },
          "execution_count": 126
        },
        {
          "output_type": "display_data",
          "data": {
            "image/png": "[encoded data removed]",
            "text/plain": [
              "<Figure size 432x288 with 2 Axes>"
            ]
          },
          "metadata": {
            "tags": [],
            "needs_background": "light"
          }
        }
      ]
    },
    {
      "cell_type": "markdown",
      "metadata": {
        "id": "cyrLsiy507Hi"
      },
      "source": [
        "Now trying XGBOOST MODEL:  Random model first folowed by Hyper parameter tuning"
      ]
    },
    {
      "cell_type": "code",
      "metadata": {
        "colab": {
          "base_uri": "https://localhost:8080/",
          "height": 50
        },
        "id": "VmqnwLOl05Kw",
        "outputId": "4ae074f5-cf30-4cb2-aef2-81287a15d9c5"
      },
      "source": [
        "# from xgboost import XGBClassifier\n",
        "\n",
        "model=xgb.XGBClassifier()\n",
        "model.fit(df_final_train,y_train)\n",
        "predicted_tr=model.predict(df_final_train)\n",
        "score_tr=f1_score(y_train,predicted_tr)\n",
        "\n",
        "predicted_te=model.predict(df_final_test)\n",
        "score_te=f1_score(y_test,predicted_te)\n",
        "print(\"f1 score for train data:\", score_tr)\n",
        "print(\"f1 score for test data:\",score_te)\n"
      ],
      "execution_count": null,
      "outputs": [
        {
          "output_type": "stream",
          "text": [
            "f1 score for train data: 0.9689788445890969\n",
            "f1 score for test data: 0.7939674363787157\n"
          ],
          "name": "stdout"
        }
      ]
    },
    {
      "cell_type": "code",
      "metadata": {
        "colab": {
          "base_uri": "https://localhost:8080/",
          "height": 50
        },
        "id": "RbTatlxkO9A2",
        "outputId": "37385e9a-3271-4f4e-b5d3-fe19578a39dc"
      },
      "source": [
        "# now doing hyperparameter tuning for xgboost\n",
        "model=xgb.XGBClassifier(max_depth=2,n_estimators=250,subsample=0.5,min_child_weight=2,learning_rate=0.1 )\n",
        "model.fit(df_final_train,y_train)\n",
        "predicted_tr=model.predict(df_final_train)\n",
        "score_tr=f1_score(y_train,predicted_tr)\n",
        "\n",
        "predicted_te=model.predict(df_final_test)\n",
        "score_te=f1_score(y_test,predicted_te)\n",
        "print(\"f1 score for train data:\", score_tr)\n",
        "print(\"f1 score for test data:\",score_te)\n",
        "\n"
      ],
      "execution_count": null,
      "outputs": [
        {
          "output_type": "stream",
          "text": [
            "f1 score for train data: 0.972213492827817\n",
            "f1 score for test data: 0.804279982166741\n"
          ],
          "name": "stdout"
        }
      ]
    },
    {
      "cell_type": "code",
      "metadata": {
        "colab": {
          "base_uri": "https://localhost:8080/",
          "height": 134
        },
        "id": "a_NJm5qWPgYh",
        "outputId": "1805cf92-6884-4ac6-a74f-06db00d606da"
      },
      "source": [
        "XGBClassifier()"
      ],
      "execution_count": null,
      "outputs": [
        {
          "output_type": "execute_result",
          "data": {
            "text/plain": [
              "XGBClassifier(base_score=0.5, booster='gbtree', colsample_bylevel=1,\n",
              "              colsample_bynode=1, colsample_bytree=1, gamma=0,\n",
              "              learning_rate=0.1, max_delta_step=0, max_depth=3,\n",
              "              min_child_weight=1, missing=None, n_estimators=100, n_jobs=1,\n",
              "              nthread=None, objective='binary:logistic', random_state=0,\n",
              "              reg_alpha=0, reg_lambda=1, scale_pos_weight=1, seed=None,\n",
              "              silent=None, subsample=1, verbosity=1)"
            ]
          },
          "metadata": {
            "tags": []
          },
          "execution_count": 132
        }
      ]
    },
    {
      "cell_type": "code",
      "metadata": {
        "colab": {
          "base_uri": "https://localhost:8080/",
          "height": 67
        },
        "id": "5ib7HZT1bT60",
        "outputId": "78af0cce-7d24-47db-9ceb-9922292a143e"
      },
      "source": [
        "#RandomizedSearchCV\n",
        "params={'max_depth':[3,4,5,6,7],'n_estimators':[110,112,114,118,121],'subsample':[0.4,0.6,0.7,0.9,0.1],'min_child_weight':[2,3,4,5],'learning_rate':[0.01,0.05,0.07,0.09,0.1]}\n",
        "model=xgb.XGBClassifier()\n",
        "tuning=RandomizedSearchCV(model,params,cv=4,scoring='f1',random_state=42,n_jobs=-1)\n",
        "tuning.fit(df_final_train,y_train)\n",
        "score_tr=f1_score(y_train,tuning.predict(df_final_train))\n",
        "score_te=f1_score(y_test,tuning.predict(df_final_test))\n",
        "print(\"f1 score for train data:\", score_tr)\n",
        "print(\"f1 score for test data:\",score_te)\n",
        "print(\"the best parameters are:\", tuning.best_params_)\n",
        " \n",
        " \n",
        "\n"
      ],
      "execution_count": null,
      "outputs": [
        {
          "output_type": "stream",
          "text": [
            "f1 score for train data: 0.9778767331241778\n",
            "f1 score for test data: 0.7891497702651435\n",
            "the best parameters are: {'subsample': 0.7, 'n_estimators': 112, 'min_child_weight': 5, 'max_depth': 7, 'learning_rate': 0.07}\n"
          ],
          "name": "stdout"
        }
      ]
    },
    {
      "cell_type": "code",
      "metadata": {
        "colab": {
          "base_uri": "https://localhost:8080/",
          "height": 50
        },
        "id": "S0PfE08WS6a5",
        "outputId": "e090091a-0538-4d2b-85d9-1bd8e522c333"
      },
      "source": [
        "model=xgb.XGBClassifier(max_depth=7,n_estimators=112,subsample=0.7,min_child_weight=5,learning_rate=0.07 )\n",
        "model.fit(df_final_train,y_train)\n",
        "predicted_tr=model.predict(df_final_train)\n",
        "score_tr=f1_score(y_train,predicted_tr)\n",
        "\n",
        "predicted_te=model.predict(df_final_test)\n",
        "score_te=f1_score(y_test,predicted_te)\n",
        "print(\"f1 score for train data:\", score_tr)\n",
        "print(\"f1 score for test data:\",score_te)"
      ],
      "execution_count": null,
      "outputs": [
        {
          "output_type": "stream",
          "text": [
            "f1 score for train data: 0.9778767331241778\n",
            "f1 score for test data: 0.7891497702651435\n"
          ],
          "name": "stdout"
        }
      ]
    },
    {
      "cell_type": "markdown",
      "metadata": {
        "id": "Vt1rlkBGcuSI"
      },
      "source": [
        "**Conclussions:**\n",
        "First of all, from the given edgelist( having  a direction from source node to destination node. Using networkx we create a graph of all of those data and do some exploratory data analysis using the graph. Similarly, we also create the graph for the test data accordingly. Here we only have a positive class data, for machine learning model, we need both class data atleast if not balanced. Then we try to balance the data by  creating edge from the other nodes( the nodes that are apart from 9.18M edge list data) .\n",
        "\n",
        "Now we have to split data in such a way that train data contains 80 percent of data from class-1 data and anotehr 80 percent data from class-o data. Similarly, test data contains 20 percent of data from class-1 and another 20 percent from class-0 data . Now we have balanced data. \n",
        "\n",
        "Now we add the features accordingly as provided in the notebook. two features svd dot and prefrential attachedment were added by myself. Prefential attachment was quite easy as the instruction provided in the link was very useful. FOr svd dot, 6 svds of source node taking U component of svd function() and 6 svds of source node taking V component of svd function. Svds for both destination were also calculated and their dot product was calculated. \n",
        "\n",
        "now we have all features, and its time to apply machine learning model. COmpared to XGBOOST, Random forest did well in my case. Best train accuracy was 96% and best test accuracy(f1 score) was 84% after hyper parameter tuning. "
      ]
    },
    {
      "cell_type": "code",
      "metadata": {
        "id": "vVDdLRIPdgjc"
      },
      "source": [
        ""
      ],
      "execution_count": null,
      "outputs": []
    }
  ]
}